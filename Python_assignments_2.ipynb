{
 "cells": [
  {
   "cell_type": "markdown",
   "id": "ec56b75a",
   "metadata": {},
   "source": [
    "###  Ramesh's basic salary is input through the keyboard. His dearness allowance is 40% of basic salary, and house rent allowance is 20% of basic salary. Write a program to calculate his gross salary."
   ]
  },
  {
   "cell_type": "code",
   "execution_count": 2,
   "id": "588a3c27",
   "metadata": {},
   "outputs": [
    {
     "name": "stdout",
     "output_type": "stream",
     "text": [
      "Enter the salary : 30000\n",
      "48000.0\n"
     ]
    }
   ],
   "source": [
    "salary = int(input(\"Enter the salary : \"))\n",
    "gross_salary = salary+((salary*0.20)+(salary*0.40))\n",
    "print(gross_salary)"
   ]
  },
  {
   "cell_type": "markdown",
   "id": "7bb85259",
   "metadata": {},
   "source": [
    "###  The distance between two cities (in km.) is input through the keyboard. Write a program to convert and print this distance in meters, feet, inches and centimeters."
   ]
  },
  {
   "cell_type": "code",
   "execution_count": 3,
   "id": "bc261228",
   "metadata": {},
   "outputs": [
    {
     "name": "stdout",
     "output_type": "stream",
     "text": [
      "Enter the distance in Km - 5\n",
      "The given distance in meter -  5000\n",
      "The given distance in feet -  16404.2\n",
      "The given distance in inch -  196850.5\n",
      "The given distance in cm -  500000\n"
     ]
    }
   ],
   "source": [
    "distance = int(input(\"Enter the distance in Km - \"))\n",
    "meter = distance*1000\n",
    "feet = distance*3280.84\n",
    "inch = distance*39370.1\n",
    "cm = distance*100000\n",
    "print(\"The given distance in meter - \", meter)\n",
    "print(\"The given distance in feet - \", feet)\n",
    "print(\"The given distance in inch - \", inch)\n",
    "print(\"The given distance in cm - \", cm)"
   ]
  },
  {
   "cell_type": "markdown",
   "id": "18415180",
   "metadata": {},
   "source": [
    "###  If the marks obtained by a student in five different subjects are input through the keyboard, find out the aggregate marks and percentage marks obtained by the student. Assume that the maximum marks that can be obtained by a student in each subject is 100."
   ]
  },
  {
   "cell_type": "code",
   "execution_count": 4,
   "id": "983c8b41",
   "metadata": {},
   "outputs": [
    {
     "name": "stdout",
     "output_type": "stream",
     "text": [
      "Enter the marks 1:54\n",
      "Enter the mark 2:68\n",
      "Enter the mark 3:89\n",
      "Enter the mark 4:34\n",
      "Enter the mark 5:67\n",
      "Total Marks: 312\n",
      "Percentage Marks: 62.4\n"
     ]
    }
   ],
   "source": [
    "m1=int(input(\"Enter the marks 1:\"))\n",
    "m2=int(input(\"Enter the mark 2:\"))\n",
    "m3=int(input(\"Enter the mark 3:\"))\n",
    "m4=int(input(\"Enter the mark 4:\"))\n",
    "m5=int(input(\"Enter the mark 5:\"))\n",
    "total=m1+m2+m3+m4+m5\n",
    "per=total/5\n",
    "print(\"Total Marks:\",total)\n",
    "print(\"Percentage Marks:\",per)"
   ]
  },
  {
   "cell_type": "markdown",
   "id": "c9abb68b",
   "metadata": {},
   "source": [
    "### Temperature of a city in Fahrenheit degrees is input through the keyboard. Write a program to convert this temperature into Centigrade degrees."
   ]
  },
  {
   "cell_type": "code",
   "execution_count": 5,
   "id": "82994f35",
   "metadata": {},
   "outputs": [
    {
     "name": "stdout",
     "output_type": "stream",
     "text": [
      "Temperature in Fahrenheit - 56\n",
      "13.333333333333334\n"
     ]
    }
   ],
   "source": [
    "temp = int(input(\"Temperature in Fahrenheit - \"))\n",
    "degree = (temp - 32)*(5/9)\n",
    "print(degree)"
   ]
  },
  {
   "cell_type": "markdown",
   "id": "8b8ac1b8",
   "metadata": {},
   "source": [
    "### The length & breadth of a rectangle and radius of a circle are input through the keyboard. Write a program to calculate the area & perimeter of the rectangle, and the area & circumference of the circle."
   ]
  },
  {
   "cell_type": "code",
   "execution_count": 6,
   "id": "b311619f",
   "metadata": {},
   "outputs": [
    {
     "name": "stdout",
     "output_type": "stream",
     "text": [
      "Enter the length in m - 5\n",
      "Enter the breadth in m - 8\n",
      "Enter the radius in m - 3\n",
      "The area of rectangle is -  40\n",
      "The area of circle is -  28.274333882308138\n",
      "The perimeter of rectangle is -  26\n",
      "The perimeter of circle is -  18.84955592153876\n"
     ]
    }
   ],
   "source": [
    "from math import pi\n",
    "length = int(input(\"Enter the length in m - \"))\n",
    "breath = int(input(\"Enter the breadth in m - \"))\n",
    "radius = int(input(\"Enter the radius in m - \"))\n",
    "area_rec = length*breath\n",
    "circum_rec = 2*(length+breath)\n",
    "area_cir = pi*(radius*radius)\n",
    "circum_cir = 2*pi*radius\n",
    "print(\"The area of rectangle is - \", area_rec)\n",
    "print(\"The area of circle is - \", area_cir)\n",
    "print(\"The perimeter of rectangle is - \", circum_rec)\n",
    "print(\"The perimeter of circle is - \", circum_cir)"
   ]
  },
  {
   "cell_type": "markdown",
   "id": "39d18b3a",
   "metadata": {},
   "source": [
    "### Two numbers are input through the keyboard into two locations C and D. Write a program to interchange the contents of C and D."
   ]
  },
  {
   "cell_type": "code",
   "execution_count": 7,
   "id": "06f1eca8",
   "metadata": {},
   "outputs": [
    {
     "name": "stdout",
     "output_type": "stream",
     "text": [
      "Enter the C value - 5\n",
      "Enter the D value - 10\n",
      "The value of C before Changed -  5\n",
      "The value of D before Changed -  10\n",
      "The value of C after Changed -  10\n",
      "The value of D after Changed -  5\n"
     ]
    }
   ],
   "source": [
    "C = int(input(\"Enter the C value - \"))\n",
    "D = int(input(\"Enter the D value - \"))\n",
    "print(\"The value of C before Changed - \", C)\n",
    "print(\"The value of D before Changed - \", D)\n",
    "t = C\n",
    "C = D\n",
    "D = t\n",
    "print(\"The value of C after Changed - \", C)\n",
    "print(\"The value of D after Changed - \", D)"
   ]
  },
  {
   "cell_type": "markdown",
   "id": "00e50f4a",
   "metadata": {},
   "source": [
    "### If a five-digit number is input through the keyboard, write a program to calculate the sum of its digits. ( Hint: Use the modulus operator '%')"
   ]
  },
  {
   "cell_type": "code",
   "execution_count": 8,
   "id": "2897757c",
   "metadata": {},
   "outputs": [
    {
     "name": "stdout",
     "output_type": "stream",
     "text": [
      "Enter a five-digit number: 34567\n",
      "Sum of the digits: 25\n"
     ]
    }
   ],
   "source": [
    "number = int(input(\"Enter a five-digit number: \"))\n",
    "if 10000 <= number <= 99999:\n",
    "    sum_of_digits = 0\n",
    "    while number > 0:\n",
    "        digit = number % 10\n",
    "        sum_of_digits += digit\n",
    "        number //= 10\n",
    "    print(\"Sum of the digits:\", sum_of_digits)\n",
    "else:\n",
    "    print(\"Please enter a valid five-digit number.\")"
   ]
  },
  {
   "cell_type": "markdown",
   "id": "688f677b",
   "metadata": {},
   "source": [
    " ### If a five-digit number is input through the keyboard, write a program to reverse the number."
   ]
  },
  {
   "cell_type": "code",
   "execution_count": 1,
   "id": "9d459662",
   "metadata": {},
   "outputs": [
    {
     "name": "stdout",
     "output_type": "stream",
     "text": [
      "Enter a five-digit number: 12345\n",
      "Reversed number: 54321\n"
     ]
    }
   ],
   "source": [
    "number = int(input(\"Enter a five-digit number: \"))\n",
    "if 10000 <= number <= 99999:\n",
    "    reversed_number = 0\n",
    "    while number > 0:\n",
    "        digit = number % 10\n",
    "        reversed_number = reversed_number * 10 + digit\n",
    "        number //= 10\n",
    "    print(\"Reversed number:\", reversed_number)\n",
    "else:\n",
    "    print(\"Please enter a valid five-digit number.\")"
   ]
  },
  {
   "cell_type": "markdown",
   "id": "9aa17259",
   "metadata": {},
   "source": [
    "###  If a four-digit number is input through the keyboard, write a program to obtain the sum of the first and last digit of this number."
   ]
  },
  {
   "cell_type": "code",
   "execution_count": 2,
   "id": "2a537ccb",
   "metadata": {},
   "outputs": [
    {
     "name": "stdout",
     "output_type": "stream",
     "text": [
      "Enter a four digit no - 2345\n",
      "The sum of first and last digit is -  7\n"
     ]
    }
   ],
   "source": [
    "number = int(input(\"Enter a four digit no - \"))\n",
    "if 1000<= number <= 9999:\n",
    "    first_digit = number//1000\n",
    "    last_digit = number%10\n",
    "    total_sum = first_digit+last_digit\n",
    "    print(\"The sum of first and last digit is - \", total_sum)\n",
    "    \n",
    "else:\n",
    "    print(\"Enter a valid four-digit number\")"
   ]
  },
  {
   "cell_type": "markdown",
   "id": "020f5c37",
   "metadata": {},
   "source": [
    "###  In a town, the percentage of men is 52. The percentage of total literacy is 48. If total percentage of literate men is 35 of the total population, write a program to find the total number of illiterate men and women if the population of the town is 80,000."
   ]
  },
  {
   "cell_type": "code",
   "execution_count": 3,
   "id": "6292fcdb",
   "metadata": {},
   "outputs": [
    {
     "name": "stdout",
     "output_type": "stream",
     "text": [
      "Number of Illiterate Men: 13600.0\n",
      "Number of Illiterate Women: 28000.0\n"
     ]
    }
   ],
   "source": [
    "total_population = 80000\n",
    "percentage_of_men = 52\n",
    "percentage_of_literacy = 48\n",
    "percentage_of_literate_men = 35\n",
    "total_men = (percentage_of_men / 100) * total_population\n",
    "total_women = total_population - total_men\n",
    "num_literate_men = (percentage_of_literate_men / 100) * total_population\n",
    "num_literate_women = (percentage_of_literacy - percentage_of_literate_men) / 100 * total_population\n",
    "num_illiterate_men = total_men - num_literate_men\n",
    "num_illiterate_women = total_women - num_literate_women\n",
    "print(\"Number of Illiterate Men:\", num_illiterate_men)\n",
    "print(\"Number of Illiterate Women:\", num_illiterate_women)\n"
   ]
  },
  {
   "cell_type": "markdown",
   "id": "aa434759",
   "metadata": {},
   "source": [
    "###  A cashier has currency notes of denominations 10, 50 and 100. If the amount to be withdrawn is input through the keyboard in hundreds, find the total number of currency notes of each denomination the cashier will have to give to the withdrawer. "
   ]
  },
  {
   "cell_type": "code",
   "execution_count": 11,
   "id": "8fbbb0d5",
   "metadata": {},
   "outputs": [
    {
     "name": "stdout",
     "output_type": "stream",
     "text": [
      "Enter the Amount to be Withdrawn :2450\n",
      "No of Hundred Notes : 24\n",
      "No of Fifty Notes : 1\n",
      "No of Ten Notes : 0\n"
     ]
    }
   ],
   "source": [
    "amt = int(input(\"Enter the Amount to be Withdrawn :\"))\n",
    "hundred = amt//100\n",
    "amt = amt%100\n",
    "fifty = amt//50\n",
    "amt = amt%50\n",
    "ten = amt//10\n",
    "print(\"No of Hundred Notes :\",hundred)\n",
    "print(\"No of Fifty Notes :\",fifty)\n",
    "print(\"No of Ten Notes :\",ten)"
   ]
  },
  {
   "cell_type": "markdown",
   "id": "531d642a",
   "metadata": {},
   "source": [
    "###  If the total selling price of 15 items and the total profit earned on them is input through the keyboard, write a program to find the cost price of one item.\n"
   ]
  },
  {
   "cell_type": "code",
   "execution_count": 12,
   "id": "adf2140d",
   "metadata": {},
   "outputs": [
    {
     "name": "stdout",
     "output_type": "stream",
     "text": [
      "Enter the total selling price of 15 items: 50000\n",
      "Enter the total profit earned on the items: 15000\n",
      "Cost Price of One Item: 2333.3333333333335\n"
     ]
    }
   ],
   "source": [
    "total_selling_price = float(input(\"Enter the total selling price of 15 items: \"))\n",
    "total_profit = float(input(\"Enter the total profit earned on the items: \"))\n",
    "num_items = 15\n",
    "cost_price_per_item = (total_selling_price - total_profit) / num_items\n",
    "print(\"Cost Price of One Item:\", cost_price_per_item)"
   ]
  },
  {
   "cell_type": "markdown",
   "id": "fac88bc8",
   "metadata": {},
   "source": [
    "###  If a five-digit number is input through the keyboard, write a program to print a new number by adding one to each of its digits. For example, if the number that is input is 12391 then the output should be displayed as 23402."
   ]
  },
  {
   "cell_type": "code",
   "execution_count": 14,
   "id": "f5f961ab",
   "metadata": {},
   "outputs": [
    {
     "name": "stdout",
     "output_type": "stream",
     "text": [
      "Enter a five-digit number: 12345\n",
      "New number with one added to each digit: 23456\n"
     ]
    }
   ],
   "source": [
    "number = input(\"Enter a five-digit number: \")\n",
    "if len(number) == 5 and number.isdigit():\n",
    "    original_number = int(number)\n",
    "    new_number = int(''.join(str(int(digit) + 1) for digit in number))\n",
    "    print(\"New number with one added to each digit:\", new_number)\n",
    "else:\n",
    "    print(\"Please enter a valid five-digit number.\")"
   ]
  },
  {
   "cell_type": "markdown",
   "id": "8c7710b6",
   "metadata": {},
   "source": [
    "###  While purchasing certain items, a discount of 10% is offered if the quantity purchased is more than 10. If quantity and price per item are input through the keyboard, write a program to calculate the total expenses."
   ]
  },
  {
   "cell_type": "code",
   "execution_count": 19,
   "id": "b6773c80",
   "metadata": {},
   "outputs": [
    {
     "name": "stdout",
     "output_type": "stream",
     "text": [
      "Enter the quantity - 12\n",
      "Enter the price per item: 3600\n",
      "Total Expenses: 38880.0\n"
     ]
    }
   ],
   "source": [
    "quantity = int(input(\"Enter the quantity - \"))\n",
    "price_per_item = float(input(\"Enter the price per item: \"))\n",
    "if quantity > 10:\n",
    "    total_expenses = quantity * price_per_item * 0.9\n",
    "else:\n",
    "    total_expenses = quantity * price_per_item\n",
    "print(\"Total Expenses:\", total_expenses)"
   ]
  },
  {
   "cell_type": "markdown",
   "id": "1d492541",
   "metadata": {},
   "source": [
    "### The current year and the year in which the employee joined the organization are entered through the keyboard. If the number of years for which the employee has served the organization is greater than 3 then a bonus of Rs. 2500/- is given to the employee. If the years of service are not greater than 3, then the program should do nothing.\n",
    " "
   ]
  },
  {
   "cell_type": "code",
   "execution_count": 23,
   "id": "55938894",
   "metadata": {},
   "outputs": [
    {
     "name": "stdout",
     "output_type": "stream",
     "text": [
      "Enter the current year: 2023\n",
      "Enter the year of joining: 2015\n",
      "Bonus: Rs. 2500\n"
     ]
    }
   ],
   "source": [
    "current_year = int(input(\"Enter the current year: \"))\n",
    "joining_year = int(input(\"Enter the year of joining: \"))\n",
    "years_of_service = current_year - joining_year\n",
    "if years_of_service > 3:\n",
    "    bonus = 2500\n",
    "    print(\"Bonus: Rs.\", bonus)"
   ]
  },
  {
   "cell_type": "markdown",
   "id": "46460d18",
   "metadata": {},
   "source": [
    "###  If his basic salary is less than Rs. 1500, then HRA = 10% of basic salary and DA = 90% of basic salary. If his salary is either equal to or above Rs. 1500, then HRA = Rs. 500 and DA = 98% of basic salary. If the employee's salary is input through the keyboard write a program to find his gross salary\n"
   ]
  },
  {
   "cell_type": "code",
   "execution_count": 24,
   "id": "f64f62c4",
   "metadata": {},
   "outputs": [
    {
     "name": "stdout",
     "output_type": "stream",
     "text": [
      "Enter the basic salary: 25000\n",
      "Gross Salary: 50000.0\n"
     ]
    }
   ],
   "source": [
    "basic_salary = float(input(\"Enter the basic salary: \"))\n",
    "if basic_salary < 1500:\n",
    "    HRA = 0.1 * basic_salary\n",
    "    DA = 0.9 * basic_salary\n",
    "else:\n",
    "    HRA = 500\n",
    "    DA = 0.98 * basic_salary\n",
    "gross_salary = basic_salary + HRA + DA\n",
    "print(\"Gross Salary:\", gross_salary)"
   ]
  },
  {
   "cell_type": "markdown",
   "id": "190ec864",
   "metadata": {},
   "source": [
    "###  The marks obtained by a student in 5 different subjects are input through the keyboard. The student gets a division as per the following rules: Write a program to calculate the division obtained by the student."
   ]
  },
  {
   "cell_type": "code",
   "execution_count": 25,
   "id": "c859187f",
   "metadata": {},
   "outputs": [
    {
     "name": "stdout",
     "output_type": "stream",
     "text": [
      "Enter marks for subject 1: 45\n",
      "Enter marks for subject 2: 50\n",
      "Enter marks for subject 3: 68\n",
      "Enter marks for subject 4: 56\n",
      "Enter marks for subject 5: 80\n",
      "Division: Second Division\n"
     ]
    }
   ],
   "source": [
    "marks = []\n",
    "for i in range(5):\n",
    "    subject_mark = float(input(f\"Enter marks for subject {i + 1}: \"))\n",
    "    marks.append(subject_mark)\n",
    "percentage = sum(marks) / 5\n",
    "if percentage >= 60:\n",
    "    division = \"First Division\"\n",
    "elif 50 <= percentage < 60:\n",
    "    division = \"Second Division\"\n",
    "elif 40 <= percentage < 50:\n",
    "    division = \"Third Division\"\n",
    "else:\n",
    "    division = \"Fail\"\n",
    "\n",
    "print(\"Division:\", division)\n"
   ]
  },
  {
   "cell_type": "markdown",
   "id": "6a235f1c",
   "metadata": {},
   "source": [
    "### A company insures its drivers in the following cases"
   ]
  },
  {
   "cell_type": "code",
   "execution_count": 26,
   "id": "2eb8c911",
   "metadata": {},
   "outputs": [
    {
     "name": "stdout",
     "output_type": "stream",
     "text": [
      "Is the driver married? (yes/no): yes\n",
      "Enter driver's gender (male/female): male\n",
      "Enter driver's age: 35\n",
      "The driver is eligible for insurance.\n"
     ]
    }
   ],
   "source": [
    "marital_status = input(\"Is the driver married? (yes/no): \").lower()\n",
    "gender = input(\"Enter driver's gender (male/female): \").lower()\n",
    "age = int(input(\"Enter driver's age: \"))\n",
    "if marital_status == \"yes\" or (gender == \"male\" and age > 30) or (gender == \"female\" and age > 25):\n",
    "    print(\"The driver is eligible for insurance.\")\n",
    "else:\n",
    "    print(\"The driver is not eligible for insurance.\")"
   ]
  },
  {
   "cell_type": "markdown",
   "id": "5b3237d1",
   "metadata": {},
   "source": [
    "### Write a program to calculate the salary as per the following table"
   ]
  },
  {
   "cell_type": "code",
   "execution_count": 27,
   "id": "d73d5579",
   "metadata": {},
   "outputs": [
    {
     "name": "stdout",
     "output_type": "stream",
     "text": [
      "Enter gender (male/female): male\n",
      "Enter years of service: 14\n",
      "Enter qualifications (graduate/post-graduate): post-graduate\n",
      "Salary: 15000\n"
     ]
    }
   ],
   "source": [
    "gender = input(\"Enter gender (male/female): \").lower()\n",
    "years_of_service = int(input(\"Enter years of service: \"))\n",
    "qualifications = input(\"Enter qualifications (graduate/post-graduate): \").lower()\n",
    "salaries = {\n",
    "    (\"male\", \"graduate\"): {\">= 10\": 10000, \"< 10\": 7000},\n",
    "    (\"male\", \"post-graduate\"): {\">= 10\": 15000, \"< 10\": 10000},\n",
    "    (\"female\", \"graduate\"): {\">= 10\": 9000, \"< 10\": 6000},\n",
    "    (\"female\", \"post-graduate\"): {\">= 10\": 12000, \"< 10\": 10000},\n",
    "}\n",
    "if (gender, qualifications) in salaries:\n",
    "    if years_of_service >= 10:\n",
    "        salary = salaries[(gender, qualifications)][\">= 10\"]\n",
    "    else:\n",
    "        salary = salaries[(gender, qualifications)][\"< 10\"]\n",
    "    print(\"Salary:\", salary)\n",
    "else:\n",
    "    print(\"Invalid input.\")"
   ]
  },
  {
   "cell_type": "markdown",
   "id": "cf58c99a",
   "metadata": {},
   "source": [
    "###  If cost price and selling price of an item is input through the keyboard, write a program to determine whether the seller has made profit or incurred loss. Also determine how much profit he made or loss he incurred.\n"
   ]
  },
  {
   "cell_type": "code",
   "execution_count": 28,
   "id": "88782792",
   "metadata": {},
   "outputs": [
    {
     "name": "stdout",
     "output_type": "stream",
     "text": [
      "Enter the cost price: 3400\n",
      "Enter the selling price: 3700\n",
      "Profit: 300.0\n"
     ]
    }
   ],
   "source": [
    "cost_price = float(input(\"Enter the cost price: \"))\n",
    "selling_price = float(input(\"Enter the selling price: \"))\n",
    "if selling_price > cost_price:\n",
    "    profit = selling_price - cost_price\n",
    "    print(\"Profit:\", profit)\n",
    "elif cost_price > selling_price:\n",
    "    loss = cost_price - selling_price\n",
    "    print(\"Loss:\", loss)\n",
    "else:\n",
    "    print(\"No profit, no loss.\")"
   ]
  },
  {
   "cell_type": "markdown",
   "id": "923754bf",
   "metadata": {},
   "source": [
    "### Any integer is input through the keyboard. Write a program to find out whether it is an odd number or even number. (Hint: Use the % (modulus) operator)\n"
   ]
  },
  {
   "cell_type": "code",
   "execution_count": 30,
   "id": "7a169038",
   "metadata": {},
   "outputs": [
    {
     "name": "stdout",
     "output_type": "stream",
     "text": [
      "Enter the number - 16\n",
      "The number is Even\n"
     ]
    }
   ],
   "source": [
    "number = int(input(\"Enter the number - \"))\n",
    "if number%2==0:\n",
    "    print(\"The number is Even\")\n",
    "else:\n",
    "    print(\"The number is Odd\")"
   ]
  },
  {
   "cell_type": "markdown",
   "id": "5c4147f0",
   "metadata": {},
   "source": [
    "###  A five-digit number is entered through the keyboard. Write a program to obtain the reversed number and to determine whether the original and reversed numbers are equal or not."
   ]
  },
  {
   "cell_type": "code",
   "execution_count": 39,
   "id": "a752ae8c",
   "metadata": {},
   "outputs": [
    {
     "name": "stdout",
     "output_type": "stream",
     "text": [
      "Enter a five-digit number: 12345\n",
      "Reversed number: 54321\n",
      "The reversed and original number are not equal\n"
     ]
    }
   ],
   "source": [
    "number = int(input(\"Enter a five-digit number: \"))\n",
    "if 10000 <= number <= 99999:\n",
    "    reversed_number = 0\n",
    "    while number > 0:\n",
    "        digit = number % 10\n",
    "        reversed_number = reversed_number * 10 + digit\n",
    "        number //= 10\n",
    "    print(\"Reversed number:\", reversed_number)\n",
    "if number == reversed_number:\n",
    "    print(\"The reversed and original number are equal\")\n",
    "else:\n",
    "    print(\"The reversed and original number are not equal\")"
   ]
  },
  {
   "cell_type": "markdown",
   "id": "d63fa388",
   "metadata": {},
   "source": [
    "###  If the ages of Ram, Shyam and Ajay are input through the keyboard, write a program to determine the youngest of the three."
   ]
  },
  {
   "cell_type": "code",
   "execution_count": 41,
   "id": "1aaf824a",
   "metadata": {},
   "outputs": [
    {
     "name": "stdout",
     "output_type": "stream",
     "text": [
      "Enter the age of Ram - 5\n",
      "Enter the age of shyam - 14\n",
      "Enter the age of Ajay - 23\n",
      "The youngest of the three is Ram\n"
     ]
    }
   ],
   "source": [
    "ram = int(input(\"Enter the age of Ram - \"))\n",
    "shyam = int(input(\"Enter the age of shyam - \"))\n",
    "ajay = int(input(\"Enter the age of Ajay - \"))\n",
    "youngest = min(ram, shyam, ajay)\n",
    "if youngest==ram:\n",
    "    print(\"The youngest of the three is Ram\")\n",
    "elif youngest==shyam:\n",
    "    print(\"The youngest of the three is Shyam\")\n",
    "else:\n",
    "    print(\"The youngest of the three is Ajay\")"
   ]
  },
  {
   "cell_type": "markdown",
   "id": "1b10d713",
   "metadata": {},
   "source": [
    "###  Write a program to check whether a triangle is valid or not, when the three angles of the triangle are entered through the keyboard. A triangle is valid if the sum of all the three angles is equal to 180 degrees.\n"
   ]
  },
  {
   "cell_type": "code",
   "execution_count": 43,
   "id": "6a2bac62",
   "metadata": {},
   "outputs": [
    {
     "name": "stdout",
     "output_type": "stream",
     "text": [
      "Enter the 1st angle - 60\n",
      "Enter the 2nd angle - 60\n",
      "Enter the 3rd angle - 60\n",
      "The Triangle is Valid\n"
     ]
    }
   ],
   "source": [
    "ang_1 = int(input(\"Enter the 1st angle - \"))\n",
    "ang_2 = int(input(\"Enter the 2nd angle - \"))\n",
    "ang_3 = int(input(\"Enter the 3rd angle - \"))\n",
    "angle = ang_1 + ang_2 + ang_3\n",
    "if angle == 180:\n",
    "    print(\"The Triangle is Valid\")\n",
    "else:\n",
    "    print(\"The Triangle is not Valid\")"
   ]
  },
  {
   "cell_type": "markdown",
   "id": "c76beef7",
   "metadata": {},
   "source": [
    "###  Find the absolute value of a number entered through the keyboard."
   ]
  },
  {
   "cell_type": "code",
   "execution_count": 47,
   "id": "5b0c9e9a",
   "metadata": {},
   "outputs": [
    {
     "name": "stdout",
     "output_type": "stream",
     "text": [
      "Enter the Number :-35\n",
      "Absolute Number : 35\n"
     ]
    }
   ],
   "source": [
    "num = int(input(\"Enter the Number :\"))\n",
    "if(num<0):\n",
    "    num = (-1)*num\n",
    "print(\"Absolute Number :\",num)"
   ]
  },
  {
   "cell_type": "markdown",
   "id": "a547d379",
   "metadata": {},
   "source": [
    "###  Given the length and breadth of a rectangle, write a program to find whether the area of the rectangle is greater than its perimeter. For example, the area of the rectangle with length = 5 and breadth = 4 is greater than its perimeter"
   ]
  },
  {
   "cell_type": "code",
   "execution_count": 48,
   "id": "f0b05a86",
   "metadata": {},
   "outputs": [
    {
     "name": "stdout",
     "output_type": "stream",
     "text": [
      "Enter the length of the rectangle: 5\n",
      "Enter the breadth of the rectangle: 4\n",
      "Area is greater than perimeter.\n"
     ]
    }
   ],
   "source": [
    "length = int(input(\"Enter the length of the rectangle: \"))\n",
    "breadth = int(input(\"Enter the breadth of the rectangle: \"))\n",
    "area = length * breadth\n",
    "perimeter = 2 * (length + breadth)\n",
    "\n",
    "if area > perimeter:\n",
    "    print(\"Area is greater than perimeter.\")\n",
    "else:\n",
    "    print(\"Perimeter is greater than area.\")"
   ]
  },
  {
   "cell_type": "markdown",
   "id": "6a09072b",
   "metadata": {},
   "source": [
    "### Any year is entered through the keyboard, write a program to determine whether the year is leap or not. Use the logical operators && and ||."
   ]
  },
  {
   "cell_type": "code",
   "execution_count": 50,
   "id": "3011d7df",
   "metadata": {},
   "outputs": [
    {
     "name": "stdout",
     "output_type": "stream",
     "text": [
      "Enter a year: 2012\n",
      "Leap year.\n"
     ]
    }
   ],
   "source": [
    "year = int(input(\"Enter a year: \"))\n",
    "if (year % 4 == 0 and year % 100 != 0) or (year % 400 == 0):\n",
    "    print(\"Leap year.\")\n",
    "else:\n",
    "    print(\"Not a leap year.\")"
   ]
  },
  {
   "cell_type": "markdown",
   "id": "8c9c6a6b",
   "metadata": {},
   "source": [
    "### A certain grade of steel is graded according to the following conditions:"
   ]
  },
  {
   "cell_type": "code",
   "execution_count": 51,
   "id": "982f6adb",
   "metadata": {},
   "outputs": [
    {
     "name": "stdout",
     "output_type": "stream",
     "text": [
      "Enter hardness: 56\n",
      "Enter carbon content: 0.5\n",
      "Enter tensile strength: 4800\n",
      "Grade of steel: 9\n"
     ]
    }
   ],
   "source": [
    "hardness = float(input(\"Enter hardness: \"))\n",
    "carbon_content = float(input(\"Enter carbon content: \"))\n",
    "tensile_strength = float(input(\"Enter tensile strength: \"))\n",
    "if hardness > 50 and carbon_content < 0.7 and tensile_strength > 5600:\n",
    "    grade = 10\n",
    "elif hardness > 50 and carbon_content < 0.7:\n",
    "    grade = 9\n",
    "elif carbon_content < 0.7 and tensile_strength > 5600:\n",
    "    grade = 8\n",
    "elif hardness > 50 and tensile_strength > 5600:\n",
    "    grade = 7\n",
    "elif hardness > 50 or carbon_content < 0.7 or tensile_strength > 5600:\n",
    "    grade = 6\n",
    "else:\n",
    "    grade = 5\n",
    "print(\"Grade of steel:\", grade)"
   ]
  },
  {
   "cell_type": "markdown",
   "id": "3e69c843",
   "metadata": {},
   "source": [
    "###  A library charges a fine for every book returned late. For first 5 days the fine is 50 paise, for 6-10 days fine is one rupee and above 10 days fine is 5 rupees. If you return the book after 30 days your membership will be cancelled. Write a program to accept the number of days the member is late to return the book and display the fine or the appropriate message"
   ]
  },
  {
   "cell_type": "code",
   "execution_count": 53,
   "id": "b0d1921f",
   "metadata": {},
   "outputs": [
    {
     "name": "stdout",
     "output_type": "stream",
     "text": [
      "Enter the number of days late to return the book: 5\n",
      "Fine: Rs. 2.5\n"
     ]
    }
   ],
   "source": [
    "days_late = int(input(\"Enter the number of days late to return the book: \"))\n",
    "if days_late <= 5:\n",
    "    fine = days_late * 0.5\n",
    "elif days_late <= 10:\n",
    "    fine = 5 + (days_late - 5)\n",
    "else:\n",
    "    fine = 5 + 5 + 5 * (days_late - 10)\n",
    "if days_late > 30:\n",
    "    print(\"Membership canceled.\")\n",
    "else:\n",
    "    print(\"Fine: Rs.\", fine)"
   ]
  },
  {
   "cell_type": "markdown",
   "id": "0e08bd06",
   "metadata": {},
   "source": [
    "###  In a company, worker efficiency is determined on the basis of the time required for a worker to complete a particular job. If the time taken by the worker is between 2 – 3 hours, then the worker is said to be highly efficient. If the time required by the worker is between 3 – 4 hours, then the worker is ordered to improve speed. If the time taken is between 4 – 5 hours, the worker is given training to improve his speed, and if the time taken by the worker is more than 5 hours, then the worker has to leave the company. If the time taken by the worker is input through the keyboard, find the efficiency of the worker."
   ]
  },
  {
   "cell_type": "code",
   "execution_count": 54,
   "id": "4766eaac",
   "metadata": {},
   "outputs": [
    {
     "name": "stdout",
     "output_type": "stream",
     "text": [
      "Enter the time taken to complete the job (in hours): 5\n",
      "Worker Efficiency: Training Required\n"
     ]
    }
   ],
   "source": [
    "time_taken = float(input(\"Enter the time taken to complete the job (in hours): \"))\n",
    "if 2 <= time_taken <= 3:\n",
    "    efficiency = \"Highly Efficient\"\n",
    "elif 3 < time_taken <= 4:\n",
    "    efficiency = \"Improve Speed\"\n",
    "elif 4 < time_taken <= 5:\n",
    "    efficiency = \"Training Required\"\n",
    "elif time_taken > 5:\n",
    "    efficiency = \"Leave the Company\"\n",
    "else:\n",
    "    efficiency = \"Invalid Input\"\n",
    "print(\"Worker Efficiency:\", efficiency)"
   ]
  },
  {
   "cell_type": "markdown",
   "id": "cfa35244",
   "metadata": {},
   "source": [
    "### Write a program to find the factor of the given number."
   ]
  },
  {
   "cell_type": "code",
   "execution_count": 55,
   "id": "f28b7c0d",
   "metadata": {},
   "outputs": [
    {
     "name": "stdout",
     "output_type": "stream",
     "text": [
      "Enter a number: 54\n",
      "Factors of 54 are:\n",
      "1\n",
      "2\n",
      "3\n",
      "6\n",
      "9\n",
      "18\n",
      "27\n",
      "54\n"
     ]
    }
   ],
   "source": [
    "num = int(input(\"Enter a number: \"))\n",
    "print(\"Factors of\", num, \"are:\")\n",
    "for i in range(1, num + 1):\n",
    "    if num % i == 0:\n",
    "        print(i)"
   ]
  },
  {
   "cell_type": "markdown",
   "id": "aff97767",
   "metadata": {},
   "source": [
    "### Write a program to find whether the given number is prime or not."
   ]
  },
  {
   "cell_type": "code",
   "execution_count": 57,
   "id": "d94a4e28",
   "metadata": {},
   "outputs": [
    {
     "name": "stdout",
     "output_type": "stream",
     "text": [
      "Enter a number: 10\n",
      "10 is not a prime number.\n"
     ]
    }
   ],
   "source": [
    "num = int(input(\"Enter a number: \"))\n",
    "if num > 1:\n",
    "    for i in range(2, int(num**0.5) + 1):\n",
    "        if num % i == 0:\n",
    "            print(num, \"is not a prime number.\")\n",
    "            break\n",
    "    else:\n",
    "        print(num, \"is a prime number.\")\n",
    "else:\n",
    "    print(num, \"is not a prime number.\")"
   ]
  },
  {
   "cell_type": "markdown",
   "id": "55346f0a",
   "metadata": {},
   "source": [
    "###  Write a program to find the given number is Armstrong number or not"
   ]
  },
  {
   "cell_type": "code",
   "execution_count": 58,
   "id": "c6cc2cb7",
   "metadata": {},
   "outputs": [
    {
     "name": "stdout",
     "output_type": "stream",
     "text": [
      "Enter a number: 54\n",
      "54 is not an Armstrong number.\n"
     ]
    }
   ],
   "source": [
    "num = int(input(\"Enter a number: \"))\n",
    "num_digits = len(str(num))\n",
    "temp = num\n",
    "sum_cubes = 0\n",
    "while temp > 0:\n",
    "    digit = temp % 10\n",
    "    sum_cubes += digit ** num_digits\n",
    "    temp //= 10\n",
    "if num == sum_cubes:\n",
    "    print(num, \"is an Armstrong number.\")\n",
    "else:\n",
    "    print(num, \"is not an Armstrong number.\")"
   ]
  },
  {
   "cell_type": "markdown",
   "id": "3def9133",
   "metadata": {},
   "source": [
    "### Write a program to print the Armstrong numbers between 100 to 999."
   ]
  },
  {
   "cell_type": "code",
   "execution_count": 59,
   "id": "67bcd7cb",
   "metadata": {},
   "outputs": [
    {
     "name": "stdout",
     "output_type": "stream",
     "text": [
      "Armstrong numbers between 100 and 999:\n",
      "153\n",
      "370\n",
      "371\n",
      "407\n"
     ]
    }
   ],
   "source": [
    "print(\"Armstrong numbers between 100 and 999:\")\n",
    "for num in range(100, 1000):\n",
    "    num_digits = len(str(num))\n",
    "    temp = num\n",
    "    sum_cubes = 0\n",
    "    while temp > 0:\n",
    "        digit = temp % 10\n",
    "        sum_cubes += digit ** num_digits\n",
    "        temp //= 10\n",
    "    if num == sum_cubes:\n",
    "        print(num)"
   ]
  },
  {
   "cell_type": "markdown",
   "id": "7dadc79a",
   "metadata": {},
   "source": [
    "### Write a program to count and print the number of odd and even numbers."
   ]
  },
  {
   "cell_type": "code",
   "execution_count": 60,
   "id": "df27635f",
   "metadata": {},
   "outputs": [
    {
     "name": "stdout",
     "output_type": "stream",
     "text": [
      "Enter the start number: 5\n",
      "Enter the end number: 15\n",
      "Even numbers:\n",
      "6\n",
      "8\n",
      "10\n",
      "12\n",
      "14\n",
      "Odd numbers:\n",
      "5\n",
      "7\n",
      "9\n",
      "11\n",
      "13\n",
      "15\n",
      "Number of even numbers: 5\n",
      "Number of odd numbers: 6\n"
     ]
    }
   ],
   "source": [
    "start = int(input(\"Enter the start number: \"))\n",
    "end = int(input(\"Enter the end number: \"))\n",
    "even_count = 0\n",
    "odd_count = 0\n",
    "print(\"Even numbers:\")\n",
    "for num in range(start, end + 1):\n",
    "    if num % 2 == 0:\n",
    "        even_count += 1\n",
    "        print(num)\n",
    "print(\"Odd numbers:\")\n",
    "for num in range(start, end + 1):\n",
    "    if num % 2 != 0:\n",
    "        odd_count += 1\n",
    "        print(num)\n",
    "print(\"Number of even numbers:\", even_count)\n",
    "print(\"Number of odd numbers:\", odd_count)"
   ]
  },
  {
   "cell_type": "markdown",
   "id": "48df2bb3",
   "metadata": {},
   "source": [
    "### Write a program to find the reverse of n digit number using While loop"
   ]
  },
  {
   "cell_type": "code",
   "execution_count": 62,
   "id": "2e7ec185",
   "metadata": {},
   "outputs": [
    {
     "name": "stdout",
     "output_type": "stream",
     "text": [
      "Enter an N-digit number: 345\n",
      "Reversed number: 543\n"
     ]
    }
   ],
   "source": [
    "num = int(input(\"Enter an N-digit number: \"))\n",
    "reverse = 0\n",
    "while num > 0:\n",
    "    digit = num % 10\n",
    "    reverse = reverse * 10 + digit\n",
    "    num //= 10\n",
    "print(\"Reversed number:\", reverse)"
   ]
  },
  {
   "cell_type": "markdown",
   "id": "e36b0b3b",
   "metadata": {},
   "source": [
    "### Write a program to find the binary number from given decimal number"
   ]
  },
  {
   "cell_type": "code",
   "execution_count": 64,
   "id": "b5a686cb",
   "metadata": {},
   "outputs": [
    {
     "name": "stdout",
     "output_type": "stream",
     "text": [
      "Enter a decimal number: 45\n",
      "Binary representation: 0b101101\n"
     ]
    }
   ],
   "source": [
    "decimal_num = int(input(\"Enter a decimal number: \"))\n",
    "binary_num = bin(decimal_num)\n",
    "print(\"Binary representation:\", binary_num)"
   ]
  },
  {
   "cell_type": "markdown",
   "id": "037adbc0",
   "metadata": {},
   "source": [
    "###  Write a program to find the decimal number from given Binary number."
   ]
  },
  {
   "cell_type": "code",
   "execution_count": 65,
   "id": "4d02d3cf",
   "metadata": {},
   "outputs": [
    {
     "name": "stdout",
     "output_type": "stream",
     "text": [
      "Enter a binary number: 0b1011\n",
      "Decimal representation: 11\n"
     ]
    }
   ],
   "source": [
    "binary_num = input(\"Enter a binary number: \")\n",
    "decimal_num = int(binary_num, 2)\n",
    "print(\"Decimal representation:\", decimal_num)"
   ]
  },
  {
   "cell_type": "markdown",
   "id": "663f4d7c",
   "metadata": {},
   "source": [
    "###  Write a program to find the factorial of the given number."
   ]
  },
  {
   "cell_type": "code",
   "execution_count": 66,
   "id": "87b255fc",
   "metadata": {},
   "outputs": [
    {
     "name": "stdout",
     "output_type": "stream",
     "text": [
      "Enter a number: 34\n",
      "Factorial of 34 is 295232799039604140847618609643520000000\n"
     ]
    }
   ],
   "source": [
    "num = int(input(\"Enter a number: \"))\n",
    "factorial = 1\n",
    "for i in range(1, num + 1):\n",
    "    factorial *= i\n",
    "print(\"Factorial of\", num, \"is\", factorial)"
   ]
  },
  {
   "cell_type": "markdown",
   "id": "21c9c107",
   "metadata": {},
   "source": [
    "###  Write a program to find the Fibonacci Series of the given number"
   ]
  },
  {
   "cell_type": "code",
   "execution_count": 67,
   "id": "6397a4bd",
   "metadata": {},
   "outputs": [
    {
     "name": "stdout",
     "output_type": "stream",
     "text": [
      "Enter the number of terms: 6\n",
      "Fibonacci series:\n",
      "0\n",
      "1\n",
      "1\n",
      "2\n",
      "3\n",
      "5\n"
     ]
    }
   ],
   "source": [
    "n = int(input(\"Enter the number of terms: \"))\n",
    "a, b = 0, 1\n",
    "count = 0\n",
    "\n",
    "if n <= 0:\n",
    "    print(\"Please enter a positive integer.\")\n",
    "elif n == 1:\n",
    "    print(\"Fibonacci series:\")\n",
    "    print(a)\n",
    "else:\n",
    "    print(\"Fibonacci series:\")\n",
    "    while count < n:\n",
    "        print(a)\n",
    "        nth = a + b\n",
    "        a = b\n",
    "        b = nth\n",
    "        count += 1"
   ]
  },
  {
   "cell_type": "markdown",
   "id": "6849bf8b",
   "metadata": {},
   "source": [
    "###  Write a program to find the given number is perfect number"
   ]
  },
  {
   "cell_type": "code",
   "execution_count": 68,
   "id": "7569c2c3",
   "metadata": {},
   "outputs": [
    {
     "name": "stdout",
     "output_type": "stream",
     "text": [
      "Enter a number: 67\n",
      "67 is not a perfect number.\n"
     ]
    }
   ],
   "source": [
    "num = int(input(\"Enter a number: \"))\n",
    "def sum_of_divisors(n):\n",
    "    divisors_sum = 0\n",
    "    for i in range(1, n):\n",
    "        if n % i == 0:\n",
    "            divisors_sum += i\n",
    "    return divisors_sum\n",
    "if sum_of_divisors(num) == num:\n",
    "    print(num, \"is a perfect number.\")\n",
    "else:\n",
    "    print(num, \"is not a perfect number.\")"
   ]
  },
  {
   "cell_type": "markdown",
   "id": "2f91e00a",
   "metadata": {},
   "source": [
    "### Write a program to print the perfect number between 1-1000"
   ]
  },
  {
   "cell_type": "code",
   "execution_count": 69,
   "id": "261708a6",
   "metadata": {},
   "outputs": [
    {
     "name": "stdout",
     "output_type": "stream",
     "text": [
      "Perfect numbers between 1 and 1000:\n",
      "6\n",
      "28\n",
      "496\n"
     ]
    }
   ],
   "source": [
    "print(\"Perfect numbers between 1 and 1000:\")\n",
    "for num in range(1, 1001):\n",
    "    if sum_of_divisors(num) == num:\n",
    "        print(num)"
   ]
  },
  {
   "cell_type": "markdown",
   "id": "1f452374",
   "metadata": {},
   "source": [
    "### Write a program to find the given number is strong number"
   ]
  },
  {
   "cell_type": "code",
   "execution_count": 70,
   "id": "b5f170ea",
   "metadata": {},
   "outputs": [
    {
     "name": "stdout",
     "output_type": "stream",
     "text": [
      "Enter a number: 56\n",
      "56 is not a strong number.\n"
     ]
    }
   ],
   "source": [
    "num = int(input(\"Enter a number: \"))\n",
    "def factorial(n):\n",
    "    if n == 0:\n",
    "        return 1\n",
    "    return n * factorial(n - 1)\n",
    "def sum_of_factorial_of_digits(n):\n",
    "    sum_factorial = 0\n",
    "    temp = n\n",
    "    while temp > 0:\n",
    "        digit = temp % 10\n",
    "        sum_factorial += factorial(digit)\n",
    "        temp //= 10\n",
    "    return sum_factorial\n",
    "\n",
    "if sum_of_factorial_of_digits(num) == num:\n",
    "    print(num, \"is a strong number.\")\n",
    "else:\n",
    "    print(num, \"is not a strong number.\")"
   ]
  },
  {
   "cell_type": "markdown",
   "id": "774afc9c",
   "metadata": {},
   "source": [
    "### Two numbers are entered through the keyboard. Write a program to find the value of one number raised to the power of another."
   ]
  },
  {
   "cell_type": "code",
   "execution_count": 71,
   "id": "ff33ecd7",
   "metadata": {},
   "outputs": [
    {
     "name": "stdout",
     "output_type": "stream",
     "text": [
      "Enter the base number: 6\n",
      "Enter the exponent: 3\n",
      "6.0 raised to the power 3.0 is 216.0\n"
     ]
    }
   ],
   "source": [
    "base = float(input(\"Enter the base number: \"))\n",
    "exponent = float(input(\"Enter the exponent: \"))\n",
    "result = base ** exponent\n",
    "print(base, \"raised to the power\", exponent, \"is\", result)"
   ]
  },
  {
   "cell_type": "code",
   "execution_count": null,
   "id": "2961312a",
   "metadata": {},
   "outputs": [],
   "source": []
  }
 ],
 "metadata": {
  "kernelspec": {
   "display_name": "Python 3 (ipykernel)",
   "language": "python",
   "name": "python3"
  },
  "language_info": {
   "codemirror_mode": {
    "name": "ipython",
    "version": 3
   },
   "file_extension": ".py",
   "mimetype": "text/x-python",
   "name": "python",
   "nbconvert_exporter": "python",
   "pygments_lexer": "ipython3",
   "version": "3.11.3"
  }
 },
 "nbformat": 4,
 "nbformat_minor": 5
}
