{
 "cells": [
  {
   "cell_type": "markdown",
   "id": "53c70b60",
   "metadata": {},
   "source": [
    "###  Write a Python program to create a tuple"
   ]
  },
  {
   "cell_type": "code",
   "execution_count": 1,
   "id": "fb1c8199",
   "metadata": {},
   "outputs": [
    {
     "name": "stdout",
     "output_type": "stream",
     "text": [
      "()\n"
     ]
    }
   ],
   "source": [
    "a = ()\n",
    "print(a)"
   ]
  },
  {
   "cell_type": "markdown",
   "id": "a55c502d",
   "metadata": {},
   "source": [
    "### Write a Python program to create a tuple with different data types"
   ]
  },
  {
   "cell_type": "code",
   "execution_count": 2,
   "id": "49d916d7",
   "metadata": {},
   "outputs": [
    {
     "name": "stdout",
     "output_type": "stream",
     "text": [
      "('Tutor Joes', True, 3.21, 10)\n"
     ]
    }
   ],
   "source": [
    "a = ('Tutor Joes', True, 3.21, 10)\n",
    "print(a)"
   ]
  },
  {
   "cell_type": "markdown",
   "id": "7ef87f30",
   "metadata": {},
   "source": [
    "### Write a Python program to create a tuple with numbers and print one item\n"
   ]
  },
  {
   "cell_type": "code",
   "execution_count": 4,
   "id": "3ad03fe2",
   "metadata": {},
   "outputs": [
    {
     "name": "stdout",
     "output_type": "stream",
     "text": [
      "10\n",
      "<class 'tuple'>\n"
     ]
    }
   ],
   "source": [
    "b = (10, 2, 4)\n",
    "print(b[0])\n",
    "print(type(b))"
   ]
  },
  {
   "cell_type": "markdown",
   "id": "68db7703",
   "metadata": {},
   "source": [
    "### Write a Python program to unpack a tuple in several variables"
   ]
  },
  {
   "cell_type": "code",
   "execution_count": 5,
   "id": "2bad5026",
   "metadata": {},
   "outputs": [
    {
     "name": "stdout",
     "output_type": "stream",
     "text": [
      "(4, 8, 3)\n"
     ]
    }
   ],
   "source": [
    "a = 4,8,3\n",
    "print(tuple(a))"
   ]
  },
  {
   "cell_type": "markdown",
   "id": "d7d884e2",
   "metadata": {},
   "source": [
    "###  Write a Python program to add an item in a tuple\n"
   ]
  },
  {
   "cell_type": "code",
   "execution_count": 20,
   "id": "7e90ea65",
   "metadata": {},
   "outputs": [
    {
     "name": "stdout",
     "output_type": "stream",
     "text": [
      "(10, 40, 50, 70, 90, 20)\n"
     ]
    }
   ],
   "source": [
    "a = (10, 40, 50, 70, 90)\n",
    "b = list(a)\n",
    "b.append(20)\n",
    "print(tuple(b))"
   ]
  },
  {
   "cell_type": "markdown",
   "id": "20105749",
   "metadata": {},
   "source": [
    "###  Write a Python program to convert a tuple to a string"
   ]
  },
  {
   "cell_type": "code",
   "execution_count": 7,
   "id": "fb89c537",
   "metadata": {},
   "outputs": [
    {
     "name": "stdout",
     "output_type": "stream",
     "text": [
      "Tutor Joes\n"
     ]
    }
   ],
   "source": [
    "a = ('T', 'u', 't', 'o', 'r', ' ', 'J', 'o', 'e', 's')\n",
    "b = ''.join(a)\n",
    "print(b)"
   ]
  },
  {
   "cell_type": "markdown",
   "id": "be12bf7e",
   "metadata": {},
   "source": [
    "###  Write a Python program to get the 4th element and 4th element from last of a tuple"
   ]
  },
  {
   "cell_type": "code",
   "execution_count": 8,
   "id": "6530d44d",
   "metadata": {},
   "outputs": [
    {
     "name": "stdout",
     "output_type": "stream",
     "text": [
      "4th Element from tuple :  e\n",
      "4th Element from last tuple :  u\n"
     ]
    }
   ],
   "source": [
    "a = ('w', 3, 'r', 'e', 's', 'o', 'u', 'r', 'c', 'e')\n",
    "print(\"4th Element from tuple : \", a[3])\n",
    "print(\"4th Element from last tuple : \", a[-4])"
   ]
  },
  {
   "cell_type": "markdown",
   "id": "98ba915d",
   "metadata": {},
   "source": [
    "### Write a Python program to create the clone of a tuple\n"
   ]
  },
  {
   "cell_type": "code",
   "execution_count": 11,
   "id": "f89d1cae",
   "metadata": {},
   "outputs": [
    {
     "name": "stdout",
     "output_type": "stream",
     "text": [
      "('Tutor', 'J', 23, 56.67, [23, 12], True)\n"
     ]
    }
   ],
   "source": [
    "from copy import deepcopy\n",
    "a = (\"Tutor\", 'J', 23 , 56.67 , [23,12] , True)\n",
    "b = deepcopy(a)\n",
    "print(b)"
   ]
  },
  {
   "cell_type": "markdown",
   "id": "44dd20a5",
   "metadata": {},
   "source": [
    "###  Write a Python program to find the repeated items of a tuple\n"
   ]
  },
  {
   "cell_type": "code",
   "execution_count": 12,
   "id": "092d02ee",
   "metadata": {},
   "outputs": [
    {
     "name": "stdout",
     "output_type": "stream",
     "text": [
      "item = 2\n",
      "Repeated items of a tuple = 3\n",
      "item = 34\n",
      "Repeated items of a tuple = 2\n"
     ]
    }
   ],
   "source": [
    "my_tuple = (2, 34, 45, 6, 7, 2, 4, 5, 78, 34, 2)\n",
    "item_counts = {}\n",
    "for item in my_tuple:\n",
    "    if item in item_counts:\n",
    "        item_counts[item] += 1\n",
    "    else:\n",
    "        item_counts[item] = 1\n",
    "repeated_items = {item: count for item, count in item_counts.items() if count > 1}\n",
    "for item, count in repeated_items.items():\n",
    "    print(f\"item = {item}\")\n",
    "    print(f\"Repeated items of a tuple = {count}\")"
   ]
  },
  {
   "cell_type": "markdown",
   "id": "f9ec0546",
   "metadata": {},
   "source": [
    "### Write a Python program to check whether an element exists within a tuple\n"
   ]
  },
  {
   "cell_type": "code",
   "execution_count": 13,
   "id": "f2f282bc",
   "metadata": {},
   "outputs": [
    {
     "name": "stdout",
     "output_type": "stream",
     "text": [
      "8 in Tuple :  True\n",
      "x in Tuple :  False\n"
     ]
    }
   ],
   "source": [
    "a = ('T', 'u', 't', 'o', 'r', ' ', 'J', 'o', 'e', 's',8)\n",
    "b = 8\n",
    "c = 'x'\n",
    "print(\"8 in Tuple : \", b in a)\n",
    "print('x in Tuple : ', c in a)"
   ]
  },
  {
   "cell_type": "markdown",
   "id": "f9492fc6",
   "metadata": {},
   "source": [
    "###  Write a Python program to convert a list to a tuple"
   ]
  },
  {
   "cell_type": "code",
   "execution_count": 14,
   "id": "72dd2411",
   "metadata": {},
   "outputs": [
    {
     "name": "stdout",
     "output_type": "stream",
     "text": [
      "(12, 45, 87, 54, 89, 4)\n"
     ]
    }
   ],
   "source": [
    "a = [12, 45, 87, 54, 89, 4]\n",
    "b = tuple(a)\n",
    "print(b)"
   ]
  },
  {
   "cell_type": "markdown",
   "id": "cd205727",
   "metadata": {},
   "source": [
    "### Write a Python program to remove an item from a tuple"
   ]
  },
  {
   "cell_type": "code",
   "execution_count": 18,
   "id": "22a956d6",
   "metadata": {},
   "outputs": [
    {
     "name": "stdout",
     "output_type": "stream",
     "text": [
      "(23, 45, 68, 10, 45, 7, 9)\n"
     ]
    }
   ],
   "source": [
    "a = (23, 45, 56, 68, 10, 45, 7, 9)\n",
    "b = list(a)\n",
    "b.remove(56)\n",
    "print(tuple(b))"
   ]
  },
  {
   "cell_type": "markdown",
   "id": "ad0e8b37",
   "metadata": {},
   "source": [
    "###  Write a Python program to slice a tuple"
   ]
  },
  {
   "cell_type": "code",
   "execution_count": 21,
   "id": "93630f74",
   "metadata": {},
   "outputs": [
    {
     "name": "stdout",
     "output_type": "stream",
     "text": [
      "(40, 50, 60, 70, 80)\n"
     ]
    }
   ],
   "source": [
    "a = (10, 20, 30, 40, 50, 60, 70, 80, 90, 100)\n",
    "b = a[3:8]\n",
    "print(b)"
   ]
  },
  {
   "cell_type": "markdown",
   "id": "a91516b4",
   "metadata": {},
   "source": [
    "### Write a Python program to find the index of an item of a tuple\n"
   ]
  },
  {
   "cell_type": "code",
   "execution_count": 23,
   "id": "82f3cc1f",
   "metadata": {},
   "outputs": [
    {
     "name": "stdout",
     "output_type": "stream",
     "text": [
      "3\n"
     ]
    }
   ],
   "source": [
    "a = (23, 45, 67, 78, 89, 90, 34, 56)\n",
    "print(a.index(78))"
   ]
  },
  {
   "cell_type": "markdown",
   "id": "ca564c5d",
   "metadata": {},
   "source": [
    "### Write a Python program to find the length of a tuple"
   ]
  },
  {
   "cell_type": "code",
   "execution_count": 24,
   "id": "26973ebb",
   "metadata": {},
   "outputs": [
    {
     "name": "stdout",
     "output_type": "stream",
     "text": [
      "6\n"
     ]
    }
   ],
   "source": [
    "a = (\"Lion\", \"Cat\", \"Dog\", \"Panda\", \"Tiger\", \"Fox\")\n",
    "print(len(a))"
   ]
  },
  {
   "cell_type": "markdown",
   "id": "dbd99612",
   "metadata": {},
   "source": [
    "### Write a Python program to convert a tuple to a dictionary"
   ]
  },
  {
   "cell_type": "code",
   "execution_count": 25,
   "id": "35672670",
   "metadata": {},
   "outputs": [
    {
     "name": "stdout",
     "output_type": "stream",
     "text": [
      "{'Name': 'Ram', 'Age': 23, 'City': 'Salem', 'Mark': 422}\n"
     ]
    }
   ],
   "source": [
    "a = ( (\"Name\", \"Ram\"), (\"Age\", 23), (\"City\", \"Salem\"), (\"Mark\", 422) )\n",
    "b = dict(a)\n",
    "print(b)"
   ]
  },
  {
   "cell_type": "markdown",
   "id": "2e2bc01f",
   "metadata": {},
   "source": [
    "### Write a Python program to unzip a list of tuples into individual lists"
   ]
  },
  {
   "cell_type": "code",
   "execution_count": 26,
   "id": "1f8d244a",
   "metadata": {},
   "outputs": [
    {
     "name": "stdout",
     "output_type": "stream",
     "text": [
      "[10, 60, 20]\n",
      "[30, 90, 50]\n"
     ]
    }
   ],
   "source": [
    "a = [ (10,30), (60,90), (20,50) ]\n",
    "unzipped_lists = [list(x) for x in zip(*a)]\n",
    "for item in unzipped_lists:\n",
    "    print(item)"
   ]
  },
  {
   "cell_type": "markdown",
   "id": "9f9cc72c",
   "metadata": {},
   "source": [
    "###  Write a Python program to reverse a tuple\n"
   ]
  },
  {
   "cell_type": "code",
   "execution_count": 31,
   "id": "9bfcd2f3",
   "metadata": {},
   "outputs": [
    {
     "name": "stdout",
     "output_type": "stream",
     "text": [
      "(56, 34, 90, 89, 78, 67, 45, 23)\n"
     ]
    }
   ],
   "source": [
    "def Reverse(a):\n",
    "    b = a[::-1]\n",
    "    return b\n",
    "a =  ( 23, 45, 67, 78, 89, 90, 34, 56 )\n",
    "print(Reverse(a))"
   ]
  },
  {
   "cell_type": "markdown",
   "id": "773e5da1",
   "metadata": {},
   "source": [
    "###  Write a Python program to convert a list of tuples into a dictionary\n"
   ]
  },
  {
   "cell_type": "code",
   "execution_count": 35,
   "id": "04345804",
   "metadata": {},
   "outputs": [
    {
     "name": "stdout",
     "output_type": "stream",
     "text": [
      "{'Name': ['Ram', 'Pooja'], 'Age': [21, 23], 'Gender': ['Male', 'Female']}\n"
     ]
    }
   ],
   "source": [
    "# Define the list of tuples\n",
    "list_of_tuples = [\n",
    "    (\"Name\", \"Ram\"),\n",
    "    (\"Name\", \"Pooja\"),\n",
    "    (\"Age\", 21),\n",
    "    (\"Gender\", \"Male\"),\n",
    "    (\"Age\", 23),\n",
    "    (\"Gender\", \"Female\")\n",
    "]\n",
    "result_dict = {}\n",
    "for key, value in list_of_tuples:\n",
    "    if key in result_dict:\n",
    "        result_dict[key].append(value)\n",
    "    else:\n",
    "        result_dict[key] = [value]\n",
    "print(result_dict)"
   ]
  },
  {
   "cell_type": "markdown",
   "id": "0d38dc6a",
   "metadata": {},
   "source": [
    "### Write a Python program to print a tuple with string formatting"
   ]
  },
  {
   "cell_type": "code",
   "execution_count": 36,
   "id": "948f3715",
   "metadata": {},
   "outputs": [
    {
     "name": "stdout",
     "output_type": "stream",
     "text": [
      "Fruits ('watermelons', 'strawberries', 'mangoes', 'bananas', 'grapefruits', 'oranges', 'apples', 'pears')\n"
     ]
    }
   ],
   "source": [
    "fruits = (\"watermelons\", \"strawberries\", \"mangoes\", \"bananas\", \"grapefruits\", \"oranges\", \"apples\", \"pears\")\n",
    "print(\"Fruits %s\" % (fruits,))"
   ]
  },
  {
   "cell_type": "markdown",
   "id": "189139b1",
   "metadata": {},
   "source": [
    "### Create a tuple with single item 23\n"
   ]
  },
  {
   "cell_type": "code",
   "execution_count": 43,
   "id": "813c9c8a",
   "metadata": {},
   "outputs": [
    {
     "name": "stdout",
     "output_type": "stream",
     "text": [
      "23\n",
      "<class 'tuple'>\n"
     ]
    }
   ],
   "source": [
    "a = (23,)\n",
    "print(a[0])\n",
    "print(type(a))"
   ]
  },
  {
   "cell_type": "markdown",
   "id": "56e27477",
   "metadata": {},
   "source": [
    "### Unpack the tuple into 5 variables"
   ]
  },
  {
   "cell_type": "code",
   "execution_count": 44,
   "id": "2305b950",
   "metadata": {},
   "outputs": [
    {
     "name": "stdout",
     "output_type": "stream",
     "text": [
      "11\n",
      "22\n",
      "33\n",
      "44\n",
      "55\n"
     ]
    }
   ],
   "source": [
    "a = (11,22,33,44,55)\n",
    "for i in a:\n",
    "    print(i)"
   ]
  },
  {
   "cell_type": "markdown",
   "id": "8bd4efbf",
   "metadata": {},
   "source": [
    "###  Swap two tuples in Python\n"
   ]
  },
  {
   "cell_type": "code",
   "execution_count": 48,
   "id": "0636c84f",
   "metadata": {},
   "outputs": [
    {
     "name": "stdout",
     "output_type": "stream",
     "text": [
      "Before Swap A : 10\n",
      "Before Swap b : 20\n",
      "After Swap A : 20\n",
      "After Swap b : 10\n"
     ]
    }
   ],
   "source": [
    "a=10\n",
    "b=20\n",
    "print(\"Before Swap A :\",a)\n",
    "print(\"Before Swap b :\",b)\n",
    "c = b\n",
    "d = a\n",
    "print(\"After Swap A :\",c)\n",
    "print(\"After Swap b :\",d)"
   ]
  },
  {
   "cell_type": "markdown",
   "id": "96c48f66",
   "metadata": {},
   "source": [
    "###  Copy specific elements from one tuple to a new tuple"
   ]
  },
  {
   "cell_type": "code",
   "execution_count": 49,
   "id": "be197633",
   "metadata": {},
   "outputs": [
    {
     "name": "stdout",
     "output_type": "stream",
     "text": [
      "(30, 40, 50, 60, 70, 80)\n"
     ]
    }
   ],
   "source": [
    "a = (10, 20, 30, 40, 50, 60, 70, 80, 90, 100)\n",
    "b = a[2:8]\n",
    "print(b)"
   ]
  },
  {
   "cell_type": "markdown",
   "id": "a2c379d4",
   "metadata": {},
   "source": [
    "### Modify the tuple\n"
   ]
  },
  {
   "cell_type": "code",
   "execution_count": 51,
   "id": "9eb4f2fa",
   "metadata": {},
   "outputs": [
    {
     "name": "stdout",
     "output_type": "stream",
     "text": [
      "(10, 20, 33, 40, 50)\n"
     ]
    }
   ],
   "source": [
    "a = ( 10, 20, 30, 40, 50 )\n",
    "a = list(a)\n",
    "a[2] = 33\n",
    "print(tuple(a))"
   ]
  },
  {
   "cell_type": "markdown",
   "id": "dc3e3bbb",
   "metadata": {},
   "source": [
    "### Sort a tuple of tuples by 2nd item\n"
   ]
  },
  {
   "cell_type": "code",
   "execution_count": 52,
   "id": "21f17c01",
   "metadata": {},
   "outputs": [
    {
     "name": "stdout",
     "output_type": "stream",
     "text": [
      "(('a', 53), ('b', 37), ('c', 23), ('d', 1), ('e', 18))\n",
      "(('d', 1), ('e', 18), ('c', 23), ('b', 37), ('a', 53))\n"
     ]
    }
   ],
   "source": [
    "a = (('a', 53), ('b', 37), ('c', 23), ('d', 1), ('e', 18))\n",
    "b = tuple(sorted(a, key=lambda x: x[1]))\n",
    "print(a)\n",
    "print(b)"
   ]
  },
  {
   "cell_type": "markdown",
   "id": "86aa42ee",
   "metadata": {},
   "source": [
    "###  Counts the number of occurrences of item 30 from a tuple"
   ]
  },
  {
   "cell_type": "code",
   "execution_count": 53,
   "id": "204efd0a",
   "metadata": {},
   "outputs": [
    {
     "name": "stdout",
     "output_type": "stream",
     "text": [
      "3\n"
     ]
    }
   ],
   "source": [
    "a = (30, 50, 10, 30, 70, 50, 30)\n",
    "print(a.count(30))"
   ]
  },
  {
   "cell_type": "markdown",
   "id": "997e7fd8",
   "metadata": {},
   "source": [
    "### Write a Python program to compute element-wise sum of given tuples\n"
   ]
  },
  {
   "cell_type": "code",
   "execution_count": 54,
   "id": "f4414344",
   "metadata": {},
   "outputs": [
    {
     "name": "stdout",
     "output_type": "stream",
     "text": [
      "A : (2, 5, 8)\n",
      "B : (6, 5, 1)\n",
      "C : (1, 4, 7)\n",
      "D : (3, 7, 2)\n",
      "Sum of Elements: (12, 21, 18)\n"
     ]
    }
   ],
   "source": [
    "a = (2, 5, 8)\n",
    "b = (6, 5, 1)\n",
    "c = (1, 4, 7)\n",
    "d = (3, 7, 2)\n",
    "print(\"A :\",a)\n",
    "print(\"B :\",b)\n",
    "print(\"C :\",c)\n",
    "print(\"D :\",d)\n",
    "res = tuple(map(sum, zip(a, b, c, d)))\n",
    "print(\"Sum of Elements:\",res)"
   ]
  },
  {
   "cell_type": "markdown",
   "id": "870c0c21",
   "metadata": {},
   "source": [
    "### Write a Python program to sort a tuple by its float element"
   ]
  },
  {
   "cell_type": "code",
   "execution_count": 58,
   "id": "4ce293d4",
   "metadata": {},
   "outputs": [
    {
     "name": "stdout",
     "output_type": "stream",
     "text": [
      "(('Jeeva', '91.40'), ('Ram', '89.20'), ('Pooja', '84.40'), ('Siva', '76.45'), ('Tara', '68.43'))\n"
     ]
    }
   ],
   "source": [
    "a = [ ('Ram', '89.20'), ('Siva', '76.45'), ('Pooja', '84.40'), ('Tara', '68.43'), ('Jeeva', '91.40') ]\n",
    "b = tuple(sorted(a, key=lambda x:x[-1]))\n",
    "c = Reverse(b)\n",
    "print(c)"
   ]
  },
  {
   "cell_type": "markdown",
   "id": "21e0f00d",
   "metadata": {},
   "source": [
    "### Write a Python program to replace last value of tuples in a list"
   ]
  },
  {
   "cell_type": "code",
   "execution_count": 62,
   "id": "c9648936",
   "metadata": {},
   "outputs": [
    {
     "name": "stdout",
     "output_type": "stream",
     "text": [
      "[(5, 2, 10), (4, 7, 10), (8, 9, 10)]\n"
     ]
    }
   ],
   "source": [
    "a = [(5, 2, 3), (4, 7, 6), (8, 9, 6)]\n",
    "b = []\n",
    "for i in a:\n",
    "    i = list(i)\n",
    "    i[-1]= 10\n",
    "    i = tuple(i)\n",
    "    b.append(i)\n",
    "print(b)"
   ]
  },
  {
   "cell_type": "markdown",
   "id": "4b709084",
   "metadata": {},
   "source": [
    "###  Write a Python program to Extract tuples having K digit elements\n"
   ]
  },
  {
   "cell_type": "code",
   "execution_count": 63,
   "id": "5b36a066",
   "metadata": {},
   "outputs": [
    {
     "name": "stdout",
     "output_type": "stream",
     "text": [
      "Original List :  [(47, 23), (3, 78), (22, 53), (121, 45), (7,)]\n",
      "Extracted Tuples :  [(47, 23), (22, 53)]\n"
     ]
    }
   ],
   "source": [
    "val = [(47, 23), (3, 78), (22, 53), (121, 45), (7, )]\n",
    "print(\"Original List : \" ,val)\n",
    "K = 2\n",
    "res = [sub for sub in val if all(len(str(ele)) == K for ele in sub)]\n",
    "print(\"Extracted Tuples : \" ,res)"
   ]
  },
  {
   "cell_type": "markdown",
   "id": "dda78700",
   "metadata": {},
   "source": [
    "###  Write a Python program to Extract Symmetric Tuples"
   ]
  },
  {
   "cell_type": "code",
   "execution_count": 65,
   "id": "9a983f01",
   "metadata": {},
   "outputs": [
    {
     "name": "stdout",
     "output_type": "stream",
     "text": [
      "The Symmetric tuples :  {(2, 9), (18, 23)}\n"
     ]
    }
   ],
   "source": [
    "val = [ (18, 23), (2, 9), (7, 6), (9, 2), (10, 2), (23, 18) ]\n",
    "temp = set(val) & {(b, a) for a, b in val}\n",
    "res = {(a, b) for a, b in temp if a < b}\n",
    "print(\"The Symmetric tuples : \" , res)"
   ]
  },
  {
   "cell_type": "markdown",
   "id": "f5c8aac8",
   "metadata": {},
   "source": [
    "###  Write a Python program to Sort Tuples by their Maximum element"
   ]
  },
  {
   "cell_type": "code",
   "execution_count": 66,
   "id": "b1395a44",
   "metadata": {},
   "outputs": [
    {
     "name": "stdout",
     "output_type": "stream",
     "text": [
      "[(19, 4, 5, 3), (4, 5, 5, 7), (1, 3, 7, 4), (1, 2)]\n"
     ]
    }
   ],
   "source": [
    "a = [ (4, 5, 5, 7), (1, 3, 7, 4), (19, 4, 5, 3), (1, 2) ]\n",
    "b = sorted(list(a))\n",
    "b.reverse()\n",
    "print(b)"
   ]
  },
  {
   "cell_type": "markdown",
   "id": "6727b571",
   "metadata": {},
   "source": [
    "###  Write a Python program to Remove nested records from tuple"
   ]
  },
  {
   "cell_type": "code",
   "execution_count": 68,
   "id": "7b5c5744",
   "metadata": {},
   "outputs": [
    {
     "name": "stdout",
     "output_type": "stream",
     "text": [
      "Removal of Nested Tuple :  (10, 20, 40, 70)\n"
     ]
    }
   ],
   "source": [
    "a = (10, 20, (30,), 40, (50, 60), 70)\n",
    "b = []\n",
    "for i in a:\n",
    "    if not type(i) is tuple:\n",
    "        b.append(i)\n",
    "res=tuple(b)\n",
    "print(\"Removal of Nested Tuple : \" ,res)        "
   ]
  },
  {
   "cell_type": "markdown",
   "id": "12d51017",
   "metadata": {},
   "source": [
    "###  Write a Python program to Elements Frequency in Mixed Nested Tuple"
   ]
  },
  {
   "cell_type": "code",
   "execution_count": 1,
   "id": "1ad6c773",
   "metadata": {},
   "outputs": [
    {
     "name": "stdout",
     "output_type": "stream",
     "text": [
      "Elements Frequency: {10: 2, 20: 2, 30: 1, 40: 1, 50: 1, 60: 2, 70: 1}\n"
     ]
    }
   ],
   "source": [
    "mixed_nested_tuple = (10, 20, (20, 10), 30, (40, 50, 60), 60, 70)\n",
    "element_frequency = {}\n",
    "def count_elements(t):\n",
    "    for item in t:\n",
    "        if isinstance(item, tuple):\n",
    "            count_elements(item)\n",
    "        else:\n",
    "            if item in element_frequency:\n",
    "                element_frequency[item] += 1\n",
    "            else:\n",
    "                element_frequency[item] = 1\n",
    "count_elements(mixed_nested_tuple)\n",
    "print(\"Elements Frequency:\", element_frequency)"
   ]
  },
  {
   "cell_type": "markdown",
   "id": "3487af33",
   "metadata": {},
   "source": [
    "### Write a Python program to get unique elements in nested tuple\n"
   ]
  },
  {
   "cell_type": "code",
   "execution_count": 2,
   "id": "44b2b044",
   "metadata": {},
   "outputs": [
    {
     "name": "stdout",
     "output_type": "stream",
     "text": [
      "Unique Element in Nested Tuples: [1, 2, 3, 4, 5, 6, 7, 9, 10]\n"
     ]
    }
   ],
   "source": [
    "nested_tuple = ((1, 3, 5), (4, 5, 7), (1, 2, 6), (10, 9), (10,))\n",
    "unique_elements = set(item for subtuple in nested_tuple for item in subtuple)\n",
    "unique_elements_list = list(unique_elements)\n",
    "print(\"Unique Element in Nested Tuples:\", unique_elements_list)"
   ]
  },
  {
   "cell_type": "markdown",
   "id": "1fcd8509",
   "metadata": {},
   "source": [
    "###  Write a Python program to Concatenate tuples to nested tuples"
   ]
  },
  {
   "cell_type": "code",
   "execution_count": 4,
   "id": "07641ff3",
   "metadata": {},
   "outputs": [
    {
     "name": "stdout",
     "output_type": "stream",
     "text": [
      "((18, 23, 2, 9), (10, 3, 11))\n"
     ]
    }
   ],
   "source": [
    "\n",
    "a = ((18, 23, 2, 9),)\n",
    "b = ((10, 3, 11),)\n",
    "c = a+b\n",
    "print(c)"
   ]
  },
  {
   "cell_type": "markdown",
   "id": "e47f2dde",
   "metadata": {},
   "source": [
    "### Write a Python program to Sort by Frequency of second element in Tuple List"
   ]
  },
  {
   "cell_type": "code",
   "execution_count": 5,
   "id": "33631dbd",
   "metadata": {},
   "outputs": [
    {
     "name": "stdout",
     "output_type": "stream",
     "text": [
      "Sorted List of tuples: [(9, 8), (2, 5), (6, 5), (2, 7), (3, 7), (8, 7)]\n"
     ]
    }
   ],
   "source": [
    "tuple_list = [(2, 7), (3, 7), (2, 5), (8, 7), (6, 5), (9, 8)]\n",
    "element_frequency = {}\n",
    "for _, second_element in tuple_list:\n",
    "    if second_element in element_frequency:\n",
    "        element_frequency[second_element] += 1\n",
    "    else:\n",
    "        element_frequency[second_element] = 1\n",
    "sorted_tuple_list = sorted(tuple_list, key=lambda x: element_frequency[x[1]])\n",
    "print(\"Sorted List of tuples:\", sorted_tuple_list)"
   ]
  },
  {
   "cell_type": "markdown",
   "id": "1952bb19",
   "metadata": {},
   "source": [
    "### Write a Python program to Sort lists in tuple\n"
   ]
  },
  {
   "cell_type": "code",
   "execution_count": 8,
   "id": "0deb7461",
   "metadata": {},
   "outputs": [
    {
     "name": "stdout",
     "output_type": "stream",
     "text": [
      "([10, 50, 60], [80, 20, 30], [70, 100, 40], (90,))\n"
     ]
    }
   ],
   "source": [
    "a = ( [10, 50, 60], [80, 20, 30], [70, 100, 40], (90,) )\n",
    "b = tuple(sorted(a, key=lambda x:sorted(x)))\n",
    "print(b)"
   ]
  },
  {
   "cell_type": "markdown",
   "id": "13df7021",
   "metadata": {},
   "source": [
    "###  Write a Python program to Order Tuples using external List"
   ]
  },
  {
   "cell_type": "code",
   "execution_count": 9,
   "id": "da1b826d",
   "metadata": {},
   "outputs": [
    {
     "name": "stdout",
     "output_type": "stream",
     "text": [
      "Ordered Tuple List: [('A', 67), ('B', 68), ('C', 69), ('D', 70)]\n"
     ]
    }
   ],
   "source": [
    "tuple_list = [('B', 68), ('D', 70), ('A', 67), ('C', 69)]\n",
    "external_order = ['A', 'B', 'C', 'D']\n",
    "key_index = {key: index for index, key in enumerate(external_order)}\n",
    "sorted_tuple_list = sorted(tuple_list, key=lambda x: key_index[x[0]])\n",
    "print(\"Ordered Tuple List:\", sorted_tuple_list)"
   ]
  },
  {
   "cell_type": "markdown",
   "id": "0c920382",
   "metadata": {},
   "source": [
    "### Write a Python program to Filter Tuples by Kth element from List"
   ]
  },
  {
   "cell_type": "code",
   "execution_count": 10,
   "id": "490d9d54",
   "metadata": {},
   "outputs": [
    {
     "name": "stdout",
     "output_type": "stream",
     "text": [
      "Filtered tuples: [('D', 70), ('A', 67)]\n"
     ]
    }
   ],
   "source": [
    "tuple_list = [('B', 68), ('D', 70), ('A', 67), ('C', 69)]\n",
    "kth_elements_to_filter = [67, 70, 71, 75]\n",
    "kth_index = 1\n",
    "filtered_tuples = [(item, value) for item, value in tuple_list if value in kth_elements_to_filter]\n",
    "print(\"Filtered tuples:\", filtered_tuples)"
   ]
  },
  {
   "cell_type": "markdown",
   "id": "a7ce2fba",
   "metadata": {},
   "source": [
    "### Write a Python program to Closest Pair to Kth index element in Tuple\n"
   ]
  },
  {
   "cell_type": "code",
   "execution_count": 11,
   "id": "b98ffbbd",
   "metadata": {},
   "outputs": [
    {
     "name": "stdout",
     "output_type": "stream",
     "text": [
      "Nearest Tuple: (9, 2)\n"
     ]
    }
   ],
   "source": [
    "tuple_list = [(23, 18), (9, 2), (2, 3), (9, 18), (23, 2)]\n",
    "given_tuple = (20, 2)\n",
    "kth_index = 1\n",
    "nearest_tuple = min(tuple_list, key=lambda t: abs(t[kth_index] - given_tuple[kth_index]))\n",
    "print(\"Nearest Tuple:\", nearest_tuple)"
   ]
  },
  {
   "cell_type": "markdown",
   "id": "d2a495c6",
   "metadata": {},
   "source": [
    "###  Write a Python program to Tuple List intersection (Order irrespective)\n"
   ]
  },
  {
   "cell_type": "code",
   "execution_count": 15,
   "id": "baef7f54",
   "metadata": {},
   "outputs": [
    {
     "name": "stdout",
     "output_type": "stream",
     "text": [
      "{(4, 5), (5, 6), (3, 4)}\n"
     ]
    }
   ],
   "source": [
    "a =  [ (3, 4), (5, 6), (9, 10), (4, 5) ]\n",
    "b =  [ (5, 4), (3, 4), (6, 5), (9, 11) ]\n",
    "c = set([tuple(sorted(ele)) for ele in a]) & set([tuple(sorted(ele)) for ele in b])\n",
    "print(c)"
   ]
  },
  {
   "cell_type": "markdown",
   "id": "093a8a09",
   "metadata": {},
   "source": [
    "###  Write a Python program to Intersection in Tuple Records Data\n"
   ]
  },
  {
   "cell_type": "code",
   "execution_count": 17,
   "id": "f7a6ef27",
   "metadata": {},
   "outputs": [
    {
     "name": "stdout",
     "output_type": "stream",
     "text": [
      "{('D', 68), ('A', 65)}\n"
     ]
    }
   ],
   "source": [
    "a = [ ('A', 65), ('D', 68), ('B', 66) ]\n",
    "b =  [ ('D', 68), ('C', 67), ('A', 65) ]\n",
    "c = set(a)&set(b)\n",
    "print(c)"
   ]
  },
  {
   "cell_type": "markdown",
   "id": "4ade65b7",
   "metadata": {},
   "source": [
    "### Write a Python program to Unique Tuple Frequency (Order Irrespective)\n"
   ]
  },
  {
   "cell_type": "code",
   "execution_count": 18,
   "id": "65f469ea",
   "metadata": {},
   "outputs": [
    {
     "name": "stdout",
     "output_type": "stream",
     "text": [
      "Unique tuples Frequency: [(1, 2), (3, 4), (5, 6)]\n",
      "Unique tuples Frequency Count: 3\n"
     ]
    }
   ],
   "source": [
    "a = [(3, 4), (1, 2), (4, 3), (5, 6)]\n",
    "unique_tuples = list(set(tuple(sorted(t)) for t in a))\n",
    "print(\"Unique tuples Frequency:\", unique_tuples)\n",
    "print(\"Unique tuples Frequency Count:\", len(unique_tuples))"
   ]
  },
  {
   "cell_type": "markdown",
   "id": "ccc22433",
   "metadata": {},
   "source": [
    "###  Write a Python program to Skew Nested Tuple Summation"
   ]
  },
  {
   "cell_type": "code",
   "execution_count": 20,
   "id": "2c75c6fa",
   "metadata": {},
   "outputs": [
    {
     "name": "stdout",
     "output_type": "stream",
     "text": [
      "Summation of 1st positions: 15\n"
     ]
    }
   ],
   "source": [
    "a = (1, (2, (3, (4, (5, None)))))\n",
    "total = 0\n",
    "while a is not None:\n",
    "    total += a[0]\n",
    "    a = a[1]\n",
    "print(\"Summation of 1st positions:\", total)"
   ]
  },
  {
   "cell_type": "markdown",
   "id": "0680fdfb",
   "metadata": {},
   "source": [
    "###  Write a Python program to Convert Binary tuple to Integer"
   ]
  },
  {
   "cell_type": "code",
   "execution_count": 21,
   "id": "a2f26216",
   "metadata": {},
   "outputs": [
    {
     "name": "stdout",
     "output_type": "stream",
     "text": [
      "Decimal number is: 10\n"
     ]
    }
   ],
   "source": [
    "a = (1, 0, 1, 0)\n",
    "decimal_number = int(''.join(map(str, a)), 2)\n",
    "print(\"Decimal number is:\", decimal_number)"
   ]
  },
  {
   "cell_type": "markdown",
   "id": "741c773c",
   "metadata": {},
   "source": [
    "###  Write a Python program to Tuple XOR operation\n"
   ]
  },
  {
   "cell_type": "code",
   "execution_count": 22,
   "id": "923170b2",
   "metadata": {},
   "outputs": [
    {
     "name": "stdout",
     "output_type": "stream",
     "text": [
      "XOR tuple: (15, 6, 5, 10)\n"
     ]
    }
   ],
   "source": [
    "a = (10, 4, 6, 9)\n",
    "b = (5, 2, 3, 3)\n",
    "xor_tuple = tuple(x ^ y for x, y in zip(a,b))\n",
    "print(\"XOR tuple:\", xor_tuple)"
   ]
  },
  {
   "cell_type": "markdown",
   "id": "685dccdc",
   "metadata": {},
   "source": [
    "###  Write a Python program to AND operation between Tuples"
   ]
  },
  {
   "cell_type": "code",
   "execution_count": 23,
   "id": "0ef8eaf3",
   "metadata": {},
   "outputs": [
    {
     "name": "stdout",
     "output_type": "stream",
     "text": [
      "AND operation Between Tuple: (0, 0, 2, 1)\n"
     ]
    }
   ],
   "source": [
    "a = (10, 4, 6, 9)\n",
    "b = (5, 2, 3, 3)\n",
    "and_tuple = tuple(x & y for x, y in zip(a,b))\n",
    "print(\"AND operation Between Tuple:\", and_tuple)"
   ]
  },
  {
   "cell_type": "markdown",
   "id": "c624c6eb",
   "metadata": {},
   "source": [
    "### Write a Python program to Elementwise AND in tuples"
   ]
  },
  {
   "cell_type": "code",
   "execution_count": 24,
   "id": "ff221195",
   "metadata": {},
   "outputs": [
    {
     "name": "stdout",
     "output_type": "stream",
     "text": [
      "Elementwise AND Tuple: (0, 0, 2, 1)\n"
     ]
    }
   ],
   "source": [
    "a = (10, 4, 6, 9)\n",
    "b = (5, 2, 3, 3)\n",
    "and_tuple = tuple(x & y for x, y in zip(a,b))\n",
    "print(\"Elementwise AND Tuple:\", and_tuple)"
   ]
  },
  {
   "cell_type": "code",
   "execution_count": null,
   "id": "3f822d50",
   "metadata": {},
   "outputs": [],
   "source": []
  }
 ],
 "metadata": {
  "kernelspec": {
   "display_name": "Python 3 (ipykernel)",
   "language": "python",
   "name": "python3"
  },
  "language_info": {
   "codemirror_mode": {
    "name": "ipython",
    "version": 3
   },
   "file_extension": ".py",
   "mimetype": "text/x-python",
   "name": "python",
   "nbconvert_exporter": "python",
   "pygments_lexer": "ipython3",
   "version": "3.11.3"
  }
 },
 "nbformat": 4,
 "nbformat_minor": 5
}
