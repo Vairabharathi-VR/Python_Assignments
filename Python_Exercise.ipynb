{
 "cells": [
  {
   "cell_type": "markdown",
   "id": "edac5a45",
   "metadata": {},
   "source": [
    "###  Write a program that reads an integer from the user. Then your program should display a message indicating whether the integer is even or odd.\n"
   ]
  },
  {
   "cell_type": "code",
   "execution_count": 3,
   "id": "9728aab4",
   "metadata": {},
   "outputs": [
    {
     "name": "stdout",
     "output_type": "stream",
     "text": [
      "Enter a number - 8\n",
      "The number is Even\n"
     ]
    }
   ],
   "source": [
    "number = int(input(\"Enter a number - \"))\n",
    "if number%2==0:\n",
    "    print(\"The number is Even\")\n",
    "else:\n",
    "    print(\"The number is Odd\")"
   ]
  },
  {
   "cell_type": "markdown",
   "id": "1e8aa589",
   "metadata": {},
   "source": [
    "###  Write a program that implements the conversion from human years to dog years described in the previous paragraph. Ensure that your program works correctly for conversions of less than two human years and for conversions of two or more human years. Your program should display an appropriate error message if the user enters a negative number."
   ]
  },
  {
   "cell_type": "code",
   "execution_count": 5,
   "id": "9ec7a180",
   "metadata": {},
   "outputs": [
    {
     "name": "stdout",
     "output_type": "stream",
     "text": [
      "Enter the age in human years: 5\n",
      "Age in dog years: 33.0\n"
     ]
    }
   ],
   "source": [
    "human_years = float(input(\"Enter the age in human years: \"))\n",
    "if human_years < 0:\n",
    "    print(\"Error: Please enter a non-negative number.\")\n",
    "else:\n",
    "    if human_years < 2:\n",
    "        dog_years = human_years * 10.5\n",
    "    else:\n",
    "        dog_years = 2 * 10.5 + (human_years - 2) * 4\n",
    "\n",
    "    print(\"Age in dog years:\", dog_years)"
   ]
  },
  {
   "cell_type": "markdown",
   "id": "76e12b2f",
   "metadata": {},
   "source": [
    "###  Create a program that reads a letter of the alphabet from the user. If the user enters a, e, i, o or u then your program should display a message indicating that the entered letter is a vowel. If the user enters y then your program should display a message indicating that sometimes y is a vowel, and sometimes y is a consonant. Otherwise your program should display a message indicating that the letter is a consonant."
   ]
  },
  {
   "cell_type": "code",
   "execution_count": 14,
   "id": "ba9af97a",
   "metadata": {},
   "outputs": [
    {
     "name": "stdout",
     "output_type": "stream",
     "text": [
      "Enter a letter - a\n",
      "The letter is a vowel\n"
     ]
    }
   ],
   "source": [
    "letter = input(\"Enter a letter - \").lower()\n",
    "if letter in 'aeiou':\n",
    "    print(\"The letter is a vowel\")\n",
    "elif letter == 'y':\n",
    "    print(\"Sometimes y is a vowel, and sometimes y is a consonant\")\n",
    "else:\n",
    "    print(\"The letter is a consonant\")"
   ]
  },
  {
   "cell_type": "markdown",
   "id": "9ea9c9c7",
   "metadata": {},
   "source": [
    "###  Write a program that determines the name of a shape from its number of sides. Read the number of sides from the user and then report the appropriate name as part of a meaningful message. Your program should support shapes with anywhere from 3 up to (and including) 10 sides. If a number of sides outside of this range is entered then your program should display an appropriate error message."
   ]
  },
  {
   "cell_type": "code",
   "execution_count": 19,
   "id": "68dbf6f2",
   "metadata": {},
   "outputs": [
    {
     "name": "stdout",
     "output_type": "stream",
     "text": [
      "Enter the number of sides - 7\n",
      "The shape is Heptogon\n"
     ]
    }
   ],
   "source": [
    "sides = int(input(\"Enter the number of sides - \"))\n",
    "if sides<3 or sides>10:\n",
    "    print(\"Enter a number between 3 to 10\")\n",
    "else:\n",
    "    if sides == 3:\n",
    "        print(\"The shape is Triangle\")\n",
    "    elif sides == 4:\n",
    "        print(\"The shape is Quadrilateral\")\n",
    "    elif sides == 5:\n",
    "        print(\"The shape is Pentagon\")\n",
    "    elif sides == 6:\n",
    "        print(\"The shape is Hexagon\")\n",
    "    elif sides == 7:\n",
    "        print(\"The shape is Heptogon\")\n",
    "    elif sides == 8:\n",
    "        print(\"The shape is Octagon\")\n",
    "    elif sides == 9:\n",
    "        print(\"The shape is Nonagon\")\n",
    "    elif sides == 10:\n",
    "        print(\"The shape is Decagon\")"
   ]
  },
  {
   "cell_type": "markdown",
   "id": "81f97273",
   "metadata": {},
   "source": [
    "###  The length of a month varies from 28 to 31 days. In this exercise you will create a program that reads the name of a month from the user as a string. Then your program should display the number of days in that month. Display “28 or 29 days” for February so that leap years are addressed."
   ]
  },
  {
   "cell_type": "code",
   "execution_count": 23,
   "id": "92e2bf93",
   "metadata": {},
   "outputs": [
    {
     "name": "stdout",
     "output_type": "stream",
     "text": [
      "Enter the name of a month - february\n",
      "This month has either 28 or 29 days\n"
     ]
    }
   ],
   "source": [
    "month = input(\"Enter the name of a month - \").lower()\n",
    "if month in ['january', 'march', 'may', 'july', 'august', 'october', 'december']:\n",
    "    print(\"This month has 31 days\")\n",
    "elif month in ['april', 'june', 'september', 'november']:\n",
    "    print(\"This month has 30 days\")\n",
    "elif month == 'february':\n",
    "    print(\"This month has either 28 or 29 days\")\n",
    "else:\n",
    "    print(\"Please enter a valid text\")"
   ]
  },
  {
   "cell_type": "markdown",
   "id": "2ffdc1f3",
   "metadata": {},
   "source": [
    "### Write a program that reads a sound level in decibels from the user. If the user enters a decibel level that matches one of the noises in the table then your program should display a message containing only that noise. If the user enters a number of decibels between the noises listed then your program should display a message indicating which noises the level is between. Ensure that your program also generates reasonable output for a value smaller than the quietest noise in the table, and for a value larger than the loudest noise in the table."
   ]
  },
  {
   "cell_type": "code",
   "execution_count": 25,
   "id": "f882bfe8",
   "metadata": {},
   "outputs": [
    {
     "name": "stdout",
     "output_type": "stream",
     "text": [
      "Enter a sound level in decibels: 60\n",
      "The noise is Quiet room.\n"
     ]
    }
   ],
   "source": [
    "sound_level = float(input(\"Enter a sound level in decibels: \"))\n",
    "noise_levels = {\n",
    "    \"Jackhammer\": 130,\n",
    "    \"Gas lawnmower\": 106,\n",
    "    \"Alarm clock\": 70,\n",
    "    \"Quiet room\": 40,\n",
    "}\n",
    "matched_noises = []\n",
    "for noise, level in noise_levels.items():\n",
    "    if sound_level == level:\n",
    "        matched_noises.append(noise)\n",
    "    elif sound_level > level:\n",
    "        matched_noises.append(noise)\n",
    "if not matched_noises:\n",
    "    if sound_level < 40:\n",
    "        message = \"The noise level is lower than the quietest noise in the table.\"\n",
    "    else:\n",
    "        message = \"The noise level is higher than the loudest noise in the table.\"\n",
    "else:\n",
    "    if len(matched_noises) == 1:\n",
    "        message = f\"The noise is {matched_noises[0]}.\"\n",
    "    else:\n",
    "        message = f\"The noise level is between {', '.join(matched_noises[:-1])}, and {matched_noises[-1]}.\"\n",
    "print(message)"
   ]
  },
  {
   "cell_type": "markdown",
   "id": "2e4a039e",
   "metadata": {},
   "source": [
    "### Once you have your program working correctly for the notes listed previously you should add support for all of the notes from C0 to C8. While this could be done by adding many additional cases to your if statement, such a solution is cumbersome, inelegant and unacceptable for the purposes of this exercise. Instead, you should exploit the relationship between notes in adjacent octaves. In particular, the frequency of any note in octave n is half the frequency of the corresponding note in octave n+1n+1. By using this relationship, you should be able to add support for the additional notes without adding additional cases to your if statement.\n"
   ]
  },
  {
   "cell_type": "code",
   "execution_count": 27,
   "id": "b0d966c7",
   "metadata": {},
   "outputs": [
    {
     "name": "stdout",
     "output_type": "stream",
     "text": [
      "Enter a note name (e.g., C4): a4\n",
      "The frequency of A4 is 440.0 Hz.\n"
     ]
    }
   ],
   "source": [
    "note_to_frequency = {\n",
    "    \"C4\": 261.63,\n",
    "    \"D4\": 293.66,\n",
    "    \"E4\": 329.63,\n",
    "    \"F4\": 349.23,\n",
    "    \"G4\": 392.00,\n",
    "    \"A4\": 440.00,\n",
    "    \"B4\": 493.88,\n",
    "}\n",
    "note = input(\"Enter a note name (e.g., C4): \").upper()\n",
    "if note in note_to_frequency:\n",
    "    frequency = note_to_frequency[note]\n",
    "    print(f\"The frequency of {note} is {frequency} Hz.\")\n",
    "else:\n",
    "    print(\"Invalid note name. Please enter a valid note name.\")"
   ]
  },
  {
   "cell_type": "markdown",
   "id": "7858598f",
   "metadata": {},
   "source": [
    "###  In the previous question you converted from note name to frequency.In this question you will write a program that reverses that process. Begin by reading a frequency from the user. If the frequency is within one Hertz of a value listed in the table in the previous question then report the name of the note. Otherwise report that the frequency does not correspond to a known note. In this exercise you only need to consider the notes listed in the table. There is no need to consider notes from other octaves.\n"
   ]
  },
  {
   "cell_type": "code",
   "execution_count": 29,
   "id": "51ef4155",
   "metadata": {},
   "outputs": [
    {
     "name": "stdout",
     "output_type": "stream",
     "text": [
      "Enter a frequency in Hz: 440\n",
      "The closest note to 440.0 Hz is A4.\n"
     ]
    }
   ],
   "source": [
    "note_to_frequency = {\n",
    "    \"C4\": 261.63,\n",
    "    \"D4\": 293.66,\n",
    "    \"E4\": 329.63,\n",
    "    \"F4\": 349.23,\n",
    "    \"G4\": 392.00,\n",
    "    \"A4\": 440.00,\n",
    "    \"B4\": 493.88,\n",
    "}\n",
    "frequency = float(input(\"Enter a frequency in Hz: \"))\n",
    "closest_note = min(note_to_frequency, key=lambda x: abs(note_to_frequency[x] - frequency))\n",
    "closest_frequency = note_to_frequency[closest_note]\n",
    "if abs(frequency - closest_frequency) <= 1.0:\n",
    "    print(f\"The closest note to {frequency} Hz is {closest_note}.\")\n",
    "else:\n",
    "    print(\"The frequency does not correspond to a known note.\")"
   ]
  },
  {
   "cell_type": "markdown",
   "id": "7a84a253",
   "metadata": {},
   "source": [
    "### Write a program that reads a wavelength from the user and reports its color. Display an appropriate error message if the wavelength entered by the user is outside of the visible spectrum."
   ]
  },
  {
   "cell_type": "code",
   "execution_count": 31,
   "id": "b5d53006",
   "metadata": {},
   "outputs": [
    {
     "name": "stdout",
     "output_type": "stream",
     "text": [
      "Enter a wavelength in nanometers: 650\n",
      "The color of the wavelength 650 nm is Red.\n"
     ]
    }
   ],
   "source": [
    "wavelength = int(input(\"Enter a wavelength in nanometers: \"))\n",
    "color_ranges = {\n",
    "    \"Violet\": range(380, 450),\n",
    "    \"Blue\": range(450, 495),\n",
    "    \"Green\": range(495, 570),\n",
    "    \"Yellow\": range(570, 590),\n",
    "    \"Orange\": range(590, 620),\n",
    "    \"Red\": range(620, 751),  \n",
    "}\n",
    "color = None\n",
    "for color_name, wavelength_range in color_ranges.items():\n",
    "    if wavelength in wavelength_range:\n",
    "        color = color_name\n",
    "        break\n",
    "if color:\n",
    "    print(f\"The color of the wavelength {wavelength} nm is {color}.\")\n",
    "else:\n",
    "    print(\"Error: The entered wavelength is outside the visible spectrum.\")"
   ]
  },
  {
   "cell_type": "markdown",
   "id": "aa543e24",
   "metadata": {},
   "source": [
    "###  When analysing data collected as part of a science experiment it may be desirable to remove the most extreme values before performing other calculations. Write a function that takes a list of values and an non\u0002negative integer, n, as its parameters. The function should create a new copy of the list with the n largest elements and the n smallest elements removed. Then it should return the new copy of the list as the function’s only result. The order of the elements in the returned list does not have to match the order of the elements in the original list.Write a main program that demonstrates your function. Your function should read a list of numbers from the user and remove the two largest and two smallest values from it. Display the list with the outliers removed, followed by the original list. Your program should generate an appropriate error message if the user enters less than 4 values."
   ]
  },
  {
   "cell_type": "code",
   "execution_count": 36,
   "id": "7eb0e2a5",
   "metadata": {},
   "outputs": [
    {
     "name": "stdout",
     "output_type": "stream",
     "text": [
      "Enter a list of numbers separated by spaces: 10 20 23 25 28 39 40\n",
      "Enter the number of largest and smallest elements to remove (n): 10 \n",
      "List with extreme values removed: []\n",
      "Original list: [10.0, 20.0, 23.0, 25.0, 28.0, 39.0, 40.0]\n"
     ]
    }
   ],
   "source": [
    "def remove_extreme_values(input_list, n):\n",
    "    if len(input_list) < 4:\n",
    "        raise ValueError(\"Please enter at least 4 values for analysis.\")\n",
    "    \n",
    "    sorted_list = sorted(input_list)\n",
    "    trimmed_list = sorted_list[n:-n]\n",
    "\n",
    "    return trimmed_list\n",
    "\n",
    "try:\n",
    "    num_list = [float(x) for x in input(\"Enter a list of numbers separated by spaces: \").split()]\n",
    "    n = int(input(\"Enter the number of largest and smallest elements to remove (n): \"))\n",
    "    result_list = remove_extreme_values(num_list, n)\n",
    "    \n",
    "    print(\"List with extreme values removed:\", result_list)\n",
    "    print(\"Original list:\", num_list)\n",
    "except ValueError as e:\n",
    "    print(e)"
   ]
  },
  {
   "cell_type": "markdown",
   "id": "9eea944e",
   "metadata": {},
   "source": [
    "### Write a main program that demonstrates your function. It should read a string from the user and display all of the words in the string with the punctuation marks removed. You will need to import your solution to this exercise when completing Exercise 158. As a result, you should ensure that your main program only runs when your file has not been imported into another program."
   ]
  },
  {
   "cell_type": "code",
   "execution_count": 37,
   "id": "937b9767",
   "metadata": {},
   "outputs": [
    {
     "name": "stdout",
     "output_type": "stream",
     "text": [
      "Enter a string of text: I want an ice-cream from this nearby shop\n",
      "Words in the text with punctuation marks removed:\n",
      "I\n",
      "want\n",
      "an\n",
      "ice-cream\n",
      "from\n",
      "this\n",
      "nearby\n",
      "shop\n"
     ]
    }
   ],
   "source": [
    "import string\n",
    "\n",
    "def extract_words(text):\n",
    "    translator = str.maketrans('', '', string.punctuation)\n",
    "    words = [word.strip(string.punctuation) for word in text.split()]\n",
    "    words = [word for word in words if word]\n",
    "\n",
    "    return words\n",
    "\n",
    "try:\n",
    "    input_text = input(\"Enter a string of text: \")\n",
    "    word_list = extract_words(input_text)\n",
    "    print(\"Words in the text with punctuation marks removed:\")\n",
    "    for word in word_list:\n",
    "        print(word)\n",
    "\n",
    "except ValueError as e:\n",
    "    print(e)"
   ]
  },
  {
   "cell_type": "code",
   "execution_count": null,
   "id": "6cf59639",
   "metadata": {},
   "outputs": [],
   "source": []
  }
 ],
 "metadata": {
  "kernelspec": {
   "display_name": "Python 3 (ipykernel)",
   "language": "python",
   "name": "python3"
  },
  "language_info": {
   "codemirror_mode": {
    "name": "ipython",
    "version": 3
   },
   "file_extension": ".py",
   "mimetype": "text/x-python",
   "name": "python",
   "nbconvert_exporter": "python",
   "pygments_lexer": "ipython3",
   "version": "3.11.3"
  }
 },
 "nbformat": 4,
 "nbformat_minor": 5
}
