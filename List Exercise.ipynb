{
 "cells": [
  {
   "cell_type": "markdown",
   "id": "e5a85b8b",
   "metadata": {},
   "source": [
    "### Write a program to sum all the items"
   ]
  },
  {
   "cell_type": "code",
   "execution_count": 2,
   "id": "11d6d04d",
   "metadata": {},
   "outputs": [
    {
     "name": "stdout",
     "output_type": "stream",
     "text": [
      "26\n"
     ]
    }
   ],
   "source": [
    "a = [1,7,-10,34,2,-8]\n",
    "a = sum(a)\n",
    "print(a)"
   ]
  },
  {
   "cell_type": "markdown",
   "id": "7156017d",
   "metadata": {},
   "source": [
    "###  Write a Python program to multiply all the items in a list"
   ]
  },
  {
   "cell_type": "code",
   "execution_count": 3,
   "id": "f3ab424f",
   "metadata": {},
   "outputs": [
    {
     "name": "stdout",
     "output_type": "stream",
     "text": [
      "1680\n"
     ]
    }
   ],
   "source": [
    "import numpy as np\n",
    "b = [3,4,5,4,7]\n",
    "b = np.prod(b)\n",
    "print(b)"
   ]
  },
  {
   "cell_type": "markdown",
   "id": "2829302f",
   "metadata": {},
   "source": [
    "###  Write a Python program to get the largest number from a list"
   ]
  },
  {
   "cell_type": "code",
   "execution_count": 5,
   "id": "9fa9b569",
   "metadata": {},
   "outputs": [
    {
     "name": "stdout",
     "output_type": "stream",
     "text": [
      "34\n"
     ]
    }
   ],
   "source": [
    "c = [1,7,10,34,2,8]\n",
    "print(max(c))"
   ]
  },
  {
   "cell_type": "markdown",
   "id": "9b906969",
   "metadata": {},
   "source": [
    "### Write a Python program to get the smallest number from a list\n"
   ]
  },
  {
   "cell_type": "code",
   "execution_count": 6,
   "id": "d3dd203a",
   "metadata": {},
   "outputs": [
    {
     "name": "stdout",
     "output_type": "stream",
     "text": [
      "2\n"
     ]
    }
   ],
   "source": [
    "d = [51,7,10,34,2,8]\n",
    "print(min(d))"
   ]
  },
  {
   "cell_type": "markdown",
   "id": "a2ea77a7",
   "metadata": {},
   "source": [
    "###  Write a Python program to count the number of strings where the string length is 2 or more and the first and last character are same from a given list of strings"
   ]
  },
  {
   "cell_type": "code",
   "execution_count": 7,
   "id": "cc631a6e",
   "metadata": {},
   "outputs": [
    {
     "name": "stdout",
     "output_type": "stream",
     "text": [
      "First and Last Character are same -  2\n"
     ]
    }
   ],
   "source": [
    "e = ['abc', 'xyz', 'aba', '1221']\n",
    "count = 0\n",
    "for i in e:\n",
    "    if len(i)>=2 and i[0]==i[-1]:\n",
    "        count = count +1\n",
    "print('First and Last Character are same - ', count)\n",
    "        "
   ]
  },
  {
   "cell_type": "markdown",
   "id": "4a565d4d",
   "metadata": {},
   "source": [
    "### Write a Python program to remove duplicates from a list"
   ]
  },
  {
   "cell_type": "code",
   "execution_count": 8,
   "id": "d259377b",
   "metadata": {},
   "outputs": [
    {
     "name": "stdout",
     "output_type": "stream",
     "text": [
      "{1, 2, 3, 4, 5, 6, 7, 8}\n"
     ]
    }
   ],
   "source": [
    "a = [1,2,3,7,2,1,5,6,4,8,5,4]\n",
    "print(set(a))"
   ]
  },
  {
   "cell_type": "markdown",
   "id": "5376cbd8",
   "metadata": {},
   "source": [
    "###  Write a Python program to check a list is empty or not"
   ]
  },
  {
   "cell_type": "code",
   "execution_count": 9,
   "id": "f31f0d19",
   "metadata": {},
   "outputs": [
    {
     "name": "stdout",
     "output_type": "stream",
     "text": [
      "List is not empty\n"
     ]
    }
   ],
   "source": [
    "b = [34,45,6,5,4,56,7]\n",
    "if b==[]:\n",
    "    print(\"List is empty\")\n",
    "else:\n",
    "    print(\"List is not empty\")"
   ]
  },
  {
   "cell_type": "markdown",
   "id": "cc131dcc",
   "metadata": {},
   "source": [
    "###  Write a Python program to clone or copy a list\n"
   ]
  },
  {
   "cell_type": "code",
   "execution_count": 10,
   "id": "2bfd8fa5",
   "metadata": {},
   "outputs": [
    {
     "name": "stdout",
     "output_type": "stream",
     "text": [
      "[10, 22, 44, 23, 4]\n"
     ]
    }
   ],
   "source": [
    "a = [10,22,44,23,4]\n",
    "b = a.copy()\n",
    "print(b)"
   ]
  },
  {
   "cell_type": "markdown",
   "id": "3e412da5",
   "metadata": {},
   "source": [
    "###  Write a Python program to find the list of words that are longer than n from a given list of words"
   ]
  },
  {
   "cell_type": "code",
   "execution_count": 12,
   "id": "f8f430df",
   "metadata": {},
   "outputs": [
    {
     "name": "stdout",
     "output_type": "stream",
     "text": [
      "Find the List of Words that are Longer than n from a given List of Words\n",
      "Given value of n = 4\n",
      "['words', 'longer', 'given', 'words']\n"
     ]
    }
   ],
   "source": [
    "word_list = 'Find the List of words that are longer than n from a given list of words'\n",
    "word_list = word_list.split()\n",
    "n = 4\n",
    "longer_words = [word for word in word_list if len(word) > n]\n",
    "print(\"Find the List of Words that are Longer than n from a given List of Words\")\n",
    "print(\"Given value of n =\", n)\n",
    "print(longer_words)"
   ]
  },
  {
   "cell_type": "markdown",
   "id": "bda09358",
   "metadata": {},
   "source": [
    "###  Write a Program that get two lists as input and check if they have at least one common"
   ]
  },
  {
   "cell_type": "code",
   "execution_count": 11,
   "id": "b2c01523",
   "metadata": {},
   "outputs": [
    {
     "name": "stdout",
     "output_type": "stream",
     "text": [
      "Lists have at least one common member\n"
     ]
    }
   ],
   "source": [
    "a = [1,2,3,4,5]\n",
    "b = [5,6,7,8,9]\n",
    "set1 = set(a)\n",
    "set2 = set(b)\n",
    "if set1.intersection(set2):\n",
    "    print(\"Lists have at least one common member\")\n",
    "else:\n",
    "    print(\"Lists have no common members\")"
   ]
  },
  {
   "cell_type": "markdown",
   "id": "03176540",
   "metadata": {},
   "source": [
    "### Write a Python program to print a specified list after removing the 0th, 4th and 5th elements. (enumerate)\n"
   ]
  },
  {
   "cell_type": "code",
   "execution_count": 12,
   "id": "0f781744",
   "metadata": {},
   "outputs": [
    {
     "name": "stdout",
     "output_type": "stream",
     "text": [
      "['Dog', 'Elephant', 'Fox', 'Panda']\n"
     ]
    }
   ],
   "source": [
    "a = ['Cat', 'Dog', 'Elephant', 'Fox', 'Tiger', 'Lion', 'Panda']\n",
    "a.remove('Cat')\n",
    "a.remove('Tiger')\n",
    "a.remove('Lion')\n",
    "print(a)"
   ]
  },
  {
   "cell_type": "markdown",
   "id": "aa06b46c",
   "metadata": {},
   "source": [
    "###  Write a Python program to print the numbers of a specified list after removing even numbers from it"
   ]
  },
  {
   "cell_type": "code",
   "execution_count": 14,
   "id": "65c29831",
   "metadata": {},
   "outputs": [
    {
     "name": "stdout",
     "output_type": "stream",
     "text": [
      "7\n",
      "81\n",
      "25\n",
      "23\n",
      "27\n"
     ]
    }
   ],
   "source": [
    "a = [7,32,81,20,25,14,23,27]\n",
    "i = []\n",
    "for i in a:\n",
    "    if i%2 != 0:\n",
    "        print(i)"
   ]
  },
  {
   "cell_type": "markdown",
   "id": "371fd7e3",
   "metadata": {},
   "source": [
    "###  Write a Python program to shuffle and print a specified list (shuffle)"
   ]
  },
  {
   "cell_type": "code",
   "execution_count": 15,
   "id": "cf89380f",
   "metadata": {},
   "outputs": [
    {
     "name": "stdout",
     "output_type": "stream",
     "text": [
      "['Dog', 'Fox', 'Tiger', 'Cat', 'Ponda', 'Elephant', 'Lion']\n"
     ]
    }
   ],
   "source": [
    "import random\n",
    "a = [\"Cat\", \"Dog\", \"Elephant\", \"Fox\", \"Tiger\", \"Lion\", \"Ponda\"]\n",
    "random.shuffle(a)\n",
    "print(a)"
   ]
  },
  {
   "cell_type": "markdown",
   "id": "9fa4e01f",
   "metadata": {},
   "source": [
    "###  Write a Python program to generate and print a list of first and last 5 elements where the values are square of numbers between 1 and 30"
   ]
  },
  {
   "cell_type": "code",
   "execution_count": 16,
   "id": "9764a1b1",
   "metadata": {},
   "outputs": [
    {
     "name": "stdout",
     "output_type": "stream",
     "text": [
      "First 5 elements: [1, 4, 9, 16, 25]\n",
      "Last 5 elements: [625, 676, 729, 784, 841]\n"
     ]
    }
   ],
   "source": [
    "squares = []\n",
    "for x in range(1, 30):\n",
    "    x_squared = x ** 2\n",
    "    squares.append(x_squared)\n",
    "\n",
    "first_5 = squares[:5]\n",
    "last_5 = squares[-5:]\n",
    "print(\"First 5 elements:\", first_5)\n",
    "print(\"Last 5 elements:\", last_5)"
   ]
  },
  {
   "cell_type": "markdown",
   "id": "4890b2c6",
   "metadata": {},
   "source": [
    "###  Write a Python program to generate all permutations of a list in Python. (itertools)"
   ]
  },
  {
   "cell_type": "code",
   "execution_count": 17,
   "id": "a578e64d",
   "metadata": {},
   "outputs": [
    {
     "name": "stdout",
     "output_type": "stream",
     "text": [
      "[1, 2, 3]\n",
      "[(1, 2, 3), (1, 3, 2), (2, 1, 3), (2, 3, 1), (3, 1, 2), (3, 2, 1)]\n"
     ]
    }
   ],
   "source": [
    "from itertools import permutations\n",
    "a = [1,2,3]\n",
    "b = list(permutations(a))\n",
    "print(a)\n",
    "print(b)"
   ]
  },
  {
   "cell_type": "markdown",
   "id": "0df56a6e",
   "metadata": {},
   "source": [
    "###  Write a Python program to convert a list of characters into a string"
   ]
  },
  {
   "cell_type": "code",
   "execution_count": 18,
   "id": "8dec6ba8",
   "metadata": {},
   "outputs": [
    {
     "name": "stdout",
     "output_type": "stream",
     "text": [
      "TutorJoes\n"
     ]
    }
   ],
   "source": [
    "a = ['T', 'u', 't', 'o', 'r', 'J', 'o', 'e', 's']\n",
    "b = ''.join(a)\n",
    "print(b)"
   ]
  },
  {
   "cell_type": "markdown",
   "id": "2158b72e",
   "metadata": {},
   "source": [
    "###  Write a Python program to find the index of an item in a specified list"
   ]
  },
  {
   "cell_type": "code",
   "execution_count": 19,
   "id": "576b541e",
   "metadata": {},
   "outputs": [
    {
     "name": "stdout",
     "output_type": "stream",
     "text": [
      "2\n"
     ]
    }
   ],
   "source": [
    "c = [20,70,30,90,10,30,90,10,80]\n",
    "print(c.index(30))"
   ]
  },
  {
   "cell_type": "markdown",
   "id": "8f79fa73",
   "metadata": {},
   "source": [
    "### Write a Python program to flatten a shallow list"
   ]
  },
  {
   "cell_type": "code",
   "execution_count": 3,
   "id": "860ec616",
   "metadata": {},
   "outputs": [
    {
     "name": "stdout",
     "output_type": "stream",
     "text": [
      "[20, 30, 40, 30, 90, 10, 30, 20, 70, 90, 10, 80]\n"
     ]
    }
   ],
   "source": [
    "a = [[20,30,40], [30,90,10], [30,20], [70,90,10,80]]\n",
    "c = []\n",
    "for i in a:\n",
    "    for j in i:\n",
    "        c.append(j)\n",
    "print(c)"
   ]
  },
  {
   "cell_type": "markdown",
   "id": "06b0b364",
   "metadata": {},
   "source": [
    "### Write a Python program to add a list to the second list"
   ]
  },
  {
   "cell_type": "code",
   "execution_count": 5,
   "id": "581ebeaa",
   "metadata": {},
   "outputs": [
    {
     "name": "stdout",
     "output_type": "stream",
     "text": [
      "[10, 20, 30, 40, 'Cat', 'Dog', 'Lion', 'Panda']\n"
     ]
    }
   ],
   "source": [
    "a = [10,20,30,40]\n",
    "b = ['Cat', 'Dog', 'Lion', 'Panda']\n",
    "c = a + b\n",
    "print(c)"
   ]
  },
  {
   "cell_type": "markdown",
   "id": "d2f81273",
   "metadata": {},
   "source": [
    "###  Write a Python program to select an item randomly from a list Using random.choice()\n"
   ]
  },
  {
   "cell_type": "code",
   "execution_count": 6,
   "id": "a22c6c2b",
   "metadata": {},
   "outputs": [],
   "source": [
    "import random"
   ]
  },
  {
   "cell_type": "code",
   "execution_count": 10,
   "id": "a49cbf8d",
   "metadata": {},
   "outputs": [
    {
     "name": "stdout",
     "output_type": "stream",
     "text": [
      "['Cat', 'Dog', 'Elephant', 'Fox', 'Tiger', 'Lion']\n"
     ]
    }
   ],
   "source": [
    "a = [\"Cat\", \"Dog\", \"Elephant\", \"Fox\", \"Tiger\", \"Lion\", \"Ponda\"]\n",
    "a.remove(random.choice(a))\n",
    "print(a)"
   ]
  },
  {
   "cell_type": "markdown",
   "id": "8662af81",
   "metadata": {},
   "source": [
    "###  Write a python program to check whether two lists are circularly identical\n"
   ]
  },
  {
   "cell_type": "code",
   "execution_count": 16,
   "id": "301959a8",
   "metadata": {},
   "outputs": [
    {
     "name": "stdout",
     "output_type": "stream",
     "text": [
      "True\n",
      "False\n"
     ]
    }
   ],
   "source": [
    "a = [8, 8, 12, 12, 8]\n",
    "b = [8, 8, 8, 12, 12]\n",
    "c = [1, 8, 8, 12, 12]\n",
    "print(' '.join(map(str, b)) in ' '.join(map(str, a * 2)))\n",
    "print(' '.join(map(str, c)) in ' '.join(map(str, a * 2)))"
   ]
  },
  {
   "cell_type": "markdown",
   "id": "baa687bb",
   "metadata": {},
   "source": [
    "### Write a Python program to find the second smallest number in a list\n"
   ]
  },
  {
   "cell_type": "code",
   "execution_count": 22,
   "id": "3bfa57f3",
   "metadata": {},
   "outputs": [
    {
     "name": "stdout",
     "output_type": "stream",
     "text": [
      "4\n"
     ]
    }
   ],
   "source": [
    "a = [2,4,56,78,4,34,5,8,9]\n",
    "a.sort()\n",
    "print(a[1])"
   ]
  },
  {
   "cell_type": "markdown",
   "id": "2a4f880d",
   "metadata": {},
   "source": [
    "###  Write a Python program to find the second largest number in a list"
   ]
  },
  {
   "cell_type": "code",
   "execution_count": 24,
   "id": "b445bbfb",
   "metadata": {},
   "outputs": [
    {
     "name": "stdout",
     "output_type": "stream",
     "text": [
      "82\n"
     ]
    }
   ],
   "source": [
    "b = [82,4,56,78,4,34,5,100,9]\n",
    "b.sort(reverse=True)\n",
    "print(b[1])"
   ]
  },
  {
   "cell_type": "markdown",
   "id": "81a355bb",
   "metadata": {},
   "source": [
    "###  Write a Python program to get unique values from a list"
   ]
  },
  {
   "cell_type": "code",
   "execution_count": 26,
   "id": "d07bd406",
   "metadata": {},
   "outputs": [
    {
     "name": "stdout",
     "output_type": "stream",
     "text": [
      "[34, 4, 5, 9, 10, 78, 82, 56]\n"
     ]
    }
   ],
   "source": [
    "c = [82, 4, 10, 56, 78, 4, 34, 5, 10, 9]\n",
    "d = set(c)\n",
    "e = list(d)\n",
    "print(e)"
   ]
  },
  {
   "cell_type": "markdown",
   "id": "84092916",
   "metadata": {},
   "source": [
    "### Write a Python program to get the frequency of the elements in a list"
   ]
  },
  {
   "cell_type": "code",
   "execution_count": 34,
   "id": "7c347b0c",
   "metadata": {},
   "outputs": [
    {
     "name": "stdout",
     "output_type": "stream",
     "text": [
      "Counter({50: 3, 10: 2, 30: 2, 20: 2, 60: 2, 40: 2})\n"
     ]
    }
   ],
   "source": [
    "from collections import Counter\n",
    "a = [10, 30, 50, 10, 20, 60, 20, 60, 40, 40, 50, 50, 30]\n",
    "b = Counter(a)\n",
    "print(b)"
   ]
  },
  {
   "cell_type": "markdown",
   "id": "464c902c",
   "metadata": {},
   "source": [
    "###  Create a list by concatenating a given list which range goes from 1 to n\n"
   ]
  },
  {
   "cell_type": "code",
   "execution_count": 35,
   "id": "5ed7f605",
   "metadata": {},
   "outputs": [
    {
     "name": "stdout",
     "output_type": "stream",
     "text": [
      "['T1', 'J1', 'T2', 'J2', 'T3', 'J3', 'T4', 'J4', 'T5', 'J5', 'T6', 'J6', 'T7', 'J7', 'T8', 'J8', 'T9', 'J9', 'T10', 'J10']\n"
     ]
    }
   ],
   "source": [
    "a = ['T', 'J']\n",
    "n = 10\n",
    "c = []\n",
    "for i in range(1, n+1):\n",
    "    for j in a:\n",
    "        c.append(f'{j}{i}')\n",
    "print(c)"
   ]
  },
  {
   "cell_type": "markdown",
   "id": "486f44da",
   "metadata": {},
   "source": [
    "### Write a Python program to get variable unique identification number or string"
   ]
  },
  {
   "cell_type": "code",
   "execution_count": 36,
   "id": "1fa3c213",
   "metadata": {},
   "outputs": [
    {
     "name": "stdout",
     "output_type": "stream",
     "text": [
      "x = 30\n",
      "s = Tutor Joes\n",
      "Unique Identification no - 0x7fff1cef96c8\n",
      "Unique Identification str - 0x26083c31970\n"
     ]
    }
   ],
   "source": [
    "x = 30\n",
    "s = \"Tutor Joes\"\n",
    "hex_id_x = hex(id(x))\n",
    "hex_id_s = hex(id(s))\n",
    "print(f'x = {x}')\n",
    "print(f's = {s}')\n",
    "print(f'Unique Identification no - {hex_id_x}')\n",
    "print(f'Unique Identification str - {hex_id_s}')"
   ]
  },
  {
   "cell_type": "markdown",
   "id": "db139b64",
   "metadata": {},
   "source": [
    "### Write a Python program to find common items from two lists"
   ]
  },
  {
   "cell_type": "code",
   "execution_count": 37,
   "id": "66004010",
   "metadata": {},
   "outputs": [
    {
     "name": "stdout",
     "output_type": "stream",
     "text": [
      "{89, 34, 67}\n"
     ]
    }
   ],
   "source": [
    "a = [23,45,67,78,89,34]\n",
    "b = [34, 89, 55,56,39,67]\n",
    "x = set(a)\n",
    "y = set(b)\n",
    "print(x&y)"
   ]
  },
  {
   "cell_type": "markdown",
   "id": "de8efec3",
   "metadata": {},
   "source": [
    "###  Write a Python program to split a list based on first character of word\n"
   ]
  },
  {
   "cell_type": "code",
   "execution_count": 41,
   "id": "2242782c",
   "metadata": {},
   "outputs": [
    {
     "name": "stdout",
     "output_type": "stream",
     "text": [
      "F\n",
      "Fox\n",
      "S\n",
      "Shark\n",
      "Snake\n",
      "b\n",
      "bear\n",
      "c\n",
      "cat\n",
      "cow\n",
      "d\n",
      "dog\n",
      "l\n",
      "lion\n",
      "m\n",
      "mouse\n",
      "monkey\n",
      "t\n",
      "tiger\n",
      "turtle\n"
     ]
    }
   ],
   "source": [
    "a = [\"cat\", \"dog\", \"cow\", \"tiger\", \"lion\", \"Fox\", \"Shark\", \"Snake\", \"turtle\", \"mouse\", \"monkey\", \"bear\"]\n",
    "b = {}\n",
    "for i in a:\n",
    "    first = i[0]\n",
    "    if first not in b:\n",
    "        b[first] = []\n",
    "    b[first].append(i)\n",
    "c = dict(sorted(b.items()))\n",
    "for key, value in c.items():\n",
    "    print(key)\n",
    "    for word in value:\n",
    "        print(f'{word}')"
   ]
  },
  {
   "cell_type": "markdown",
   "id": "5b16bec7",
   "metadata": {},
   "source": [
    "###  Write a Python program to select the odd number of a list\n"
   ]
  },
  {
   "cell_type": "code",
   "execution_count": 49,
   "id": "c1031eb1",
   "metadata": {},
   "outputs": [
    {
     "name": "stdout",
     "output_type": "stream",
     "text": [
      "[1, 3, 7, 9, 7, 9]\n"
     ]
    }
   ],
   "source": [
    "a = [1,2,4,3,6,7,8,9,7,8,9,10]\n",
    "b = []\n",
    "for i in a:\n",
    "    if i%2 != 0:\n",
    "        b.append(i)\n",
    "print(b)"
   ]
  },
  {
   "cell_type": "markdown",
   "id": "6ba43472",
   "metadata": {},
   "source": [
    "### Write a Python Program to count unique values inside a list"
   ]
  },
  {
   "cell_type": "code",
   "execution_count": 50,
   "id": "9b0a2306",
   "metadata": {},
   "outputs": [
    {
     "name": "stdout",
     "output_type": "stream",
     "text": [
      "6\n"
     ]
    }
   ],
   "source": [
    "a = [10,20,30,50,80,70,70,80,10]\n",
    "print(len(set(a)))"
   ]
  },
  {
   "cell_type": "markdown",
   "id": "1b41cebd",
   "metadata": {},
   "source": [
    "###  Write a Python Program to List product excluding duplicates"
   ]
  },
  {
   "cell_type": "code",
   "execution_count": 52,
   "id": "524a23cc",
   "metadata": {},
   "outputs": [
    {
     "name": "stdout",
     "output_type": "stream",
     "text": [
      "144\n"
     ]
    }
   ],
   "source": [
    "import numpy as np\n",
    "a = [2,1,2,4,6,4,3,2,1]\n",
    "b = set(a)\n",
    "c = np.prod(list(b))\n",
    "print(c)"
   ]
  },
  {
   "cell_type": "markdown",
   "id": "e69e2d0a",
   "metadata": {},
   "source": [
    "###  Write a Python Program to Test if List contains elements in Range"
   ]
  },
  {
   "cell_type": "code",
   "execution_count": 54,
   "id": "c981633d",
   "metadata": {},
   "outputs": [
    {
     "name": "stdout",
     "output_type": "stream",
     "text": [
      "Does list contain all elements in range : True\n"
     ]
    }
   ],
   "source": [
    "a = [4, 5, 6, 7, 3, 9] \n",
    "i, j = 3, 10\n",
    "res = True\n",
    "for ele in a:\n",
    "    if ele < i or ele >= j :\n",
    "        res = False\n",
    "        break\n",
    "print (\"Does list contain all elements in range : \" + str(res))\n"
   ]
  },
  {
   "cell_type": "markdown",
   "id": "570b4fd9",
   "metadata": {},
   "source": [
    "###  Write a Python program to check if the list contains three consecutive common numbers in Python"
   ]
  },
  {
   "cell_type": "code",
   "execution_count": 63,
   "id": "a5a11661",
   "metadata": {},
   "outputs": [
    {
     "name": "stdout",
     "output_type": "stream",
     "text": [
      "18\n",
      "18\n",
      "18\n",
      "9\n",
      "9\n",
      "9\n"
     ]
    }
   ],
   "source": [
    "a = [18,18,18,6,3,4,9,9,9]\n",
    "for i in a:\n",
    "    if a.count(i)==3:\n",
    "        print(i)"
   ]
  },
  {
   "cell_type": "markdown",
   "id": "5f329e09",
   "metadata": {},
   "source": [
    "###  Write a Python program to find the Strongest Neighbour"
   ]
  },
  {
   "cell_type": "code",
   "execution_count": 65,
   "id": "99229f66",
   "metadata": {},
   "outputs": [
    {
     "name": "stdout",
     "output_type": "stream",
     "text": [
      "[10, 20, 30, 20, 30, 400]\n",
      "Strongest Neighbors: 30\n"
     ]
    }
   ],
   "source": [
    "a = [10, 20, 30, 20, 30, 400]\n",
    "strongest_neighbors = []\n",
    "for i in range(1, len(a) - 1):\n",
    "    if a[i] >= a[i - 1] and a[i] >= a[i + 1]:\n",
    "        strongest_neighbors.append(a[i])\n",
    "print(a)\n",
    "print(\"Strongest Neighbors:\", \" \".join(map(str, strongest_neighbors)))"
   ]
  },
  {
   "cell_type": "markdown",
   "id": "c32f2831",
   "metadata": {},
   "source": [
    "###  Write a Python Program to print all Possible Combinations from the three Digits"
   ]
  },
  {
   "cell_type": "code",
   "execution_count": 70,
   "id": "4fc410ea",
   "metadata": {},
   "outputs": [
    {
     "name": "stdout",
     "output_type": "stream",
     "text": [
      "1 2 3\n",
      "1 3 2\n",
      "2 1 3\n",
      "2 3 1\n",
      "3 1 2\n",
      "3 2 1\n"
     ]
    }
   ],
   "source": [
    "from itertools import permutations\n",
    "a = [1,2,3]\n",
    "b = list(permutations(a))\n",
    "for i in b:\n",
    "    print(*i)"
   ]
  },
  {
   "cell_type": "markdown",
   "id": "a063a741",
   "metadata": {},
   "source": [
    "### 38. Write a Python program to find all the Combinations in the list with the given condition Sample Output\n",
    "\n"
   ]
  },
  {
   "cell_type": "code",
   "execution_count": 73,
   "id": "e46e011c",
   "metadata": {},
   "outputs": [
    {
     "name": "stdout",
     "output_type": "stream",
     "text": [
      "['Tutor Joes', ['Software', 'Computer'], ['Solution', 'Education']]\n",
      "[('Tutor Joes',), ('Tutor Joes', ['Software', 'Computer']), ('Tutor Joes', ['Solution', 'Education']), ('Tutor Joes', ['Software', 'Computer'], ['Solution', 'Education'])]\n"
     ]
    }
   ],
   "source": [
    "import itertools\n",
    "my_list = ['Tutor Joes', ['Software', 'Computer'], ['Solution', 'Education']]\n",
    "def condition(sublist):\n",
    "    return any(isinstance(item, str) for item in sublist)\n",
    "combinations = [combo for r in range(1, len(my_list) + 1) for combo in itertools.combinations(my_list, r) if condition(combo)]\n",
    "print(combinations)"
   ]
  },
  {
   "cell_type": "markdown",
   "id": "dfd27769",
   "metadata": {},
   "source": [
    "###  Write a Python program to get all unique combinations of two Lists"
   ]
  },
  {
   "cell_type": "code",
   "execution_count": 79,
   "id": "53e1af01",
   "metadata": {},
   "outputs": [
    {
     "name": "stdout",
     "output_type": "stream",
     "text": [
      "[[('A', 1), ('B', 2), ('C', 3)], [('A', 1), ('C', 2), ('B', 3)], [('B', 1), ('A', 2), ('C', 3)], [('B', 1), ('C', 2), ('A', 3)], [('C', 1), ('A', 2), ('B', 3)], [('C', 1), ('B', 2), ('A', 3)]]\n"
     ]
    }
   ],
   "source": [
    "a = ['A', 'B', 'C']\n",
    "b = [1,2,3]\n",
    "all_combinations = []\n",
    "list1_permutations = itertools.permutations(a, len(b))\n",
    "for each_permutation in list1_permutations:\n",
    "    zipped = zip(each_permutation, b)\n",
    "    all_combinations.append(list(zipped))\n",
    "print(all_combinations)"
   ]
  },
  {
   "cell_type": "markdown",
   "id": "21b1c980",
   "metadata": {},
   "source": [
    "### Write a Python program to remove all the occurrences of an element from a list"
   ]
  },
  {
   "cell_type": "code",
   "execution_count": 92,
   "id": "84895b7e",
   "metadata": {},
   "outputs": [
    {
     "name": "stdout",
     "output_type": "stream",
     "text": [
      "[3, 4, 6, 5, 1]\n"
     ]
    }
   ],
   "source": [
    "a = [1,3,4,6,5,1]\n",
    "a.remove(1)\n",
    "print(a)"
   ]
  },
  {
   "cell_type": "markdown",
   "id": "75c501f8",
   "metadata": {},
   "source": [
    "### Write a Python Program to Replace index elements with elements in Other List"
   ]
  },
  {
   "cell_type": "code",
   "execution_count": 3,
   "id": "ce7154af",
   "metadata": {},
   "outputs": [
    {
     "name": "stdout",
     "output_type": "stream",
     "text": [
      "['Education', 'Computer', 'Tutor Joes', 'Computer', 'Tutor Joes', 'Education', 'Education', 'Tutor Joes', 'Computer', 'Tutor Joes', 'Computer', 'Education']\n"
     ]
    }
   ],
   "source": [
    "test_list1 = ['Tutor Joes', 'Computer', 'Education']\n",
    "test_list2 = [2, 1, 0, 1, 0, 2, 2, 0, 1, 0, 1, 2]\n",
    "res = [test_list1[idx] for idx in test_list2]\n",
    "print (str(res))"
   ]
  },
  {
   "cell_type": "markdown",
   "id": "95a4879c",
   "metadata": {},
   "source": [
    "###  Write a Python Program to Retain records with N occurrences of K"
   ]
  },
  {
   "cell_type": "code",
   "execution_count": 8,
   "id": "74a390ac",
   "metadata": {},
   "outputs": [
    {
     "name": "stdout",
     "output_type": "stream",
     "text": [
      "[]\n"
     ]
    }
   ],
   "source": [
    "test_list = [ (4, 5, 6, 5, 4), (4, 5, 3), (5, 5, 2), (3, 4, 9) ]\n",
    "K = 4\n",
    "N = 3\n",
    "res = [ele for ele in test_list if sum(cnt == K for cnt in ele) == N]\n",
    "print(str(res)) "
   ]
  },
  {
   "cell_type": "markdown",
   "id": "1c43fdce",
   "metadata": {},
   "source": [
    "###  Write a Python Program to Swap elements in String list"
   ]
  },
  {
   "cell_type": "code",
   "execution_count": 9,
   "id": "95345d05",
   "metadata": {},
   "outputs": [
    {
     "name": "stdout",
     "output_type": "stream",
     "text": [
      "['joes', 'Tutor', 'Education', 'Computer']\n"
     ]
    }
   ],
   "source": [
    "string_list = ['Tutor', 'joes', 'Computer', 'Education']\n",
    "for i in range(1, len(string_list), 2):\n",
    "    string_list[i], string_list[i - 1] = string_list[i - 1], string_list[i]\n",
    "print(string_list)"
   ]
  },
  {
   "cell_type": "markdown",
   "id": "72fd016a",
   "metadata": {},
   "source": [
    "###  Write a Python program to reverse All Strings in String List"
   ]
  },
  {
   "cell_type": "code",
   "execution_count": 10,
   "id": "8d006644",
   "metadata": {},
   "outputs": [
    {
     "name": "stdout",
     "output_type": "stream",
     "text": [
      "Original list = ['Tutor', 'joes', 'Computer', 'Education']\n",
      "Reversed list = ['rotuT', 'seoj', 'retupmoC', 'noitacudE']\n",
      "Reversed list = ['noitacudE', 'retupmoC', 'seoj', 'rotuT']\n"
     ]
    }
   ],
   "source": [
    "string_list = ['Tutor', 'joes', 'Computer', 'Education']\n",
    "print(\"Original list =\", string_list)\n",
    "reversed_list = [s[::-1] for s in string_list]\n",
    "print(\"Reversed list =\", reversed_list)\n",
    "reversed_list.reverse()\n",
    "print(\"Reversed list =\", reversed_list)"
   ]
  },
  {
   "cell_type": "markdown",
   "id": "66a5fe6c",
   "metadata": {},
   "source": [
    "###  Write a Python program to find the character position of Kth word from a list of strings"
   ]
  },
  {
   "cell_type": "code",
   "execution_count": 12,
   "id": "fe0a5114",
   "metadata": {},
   "outputs": [
    {
     "name": "stdout",
     "output_type": "stream",
     "text": [
      "K = 20\n",
      "Index of character at Kth position word: 3\n"
     ]
    }
   ],
   "source": [
    "string_list = ['Tutor', 'joes', 'Computer', 'Education']\n",
    "K = 20\n",
    "char_count = 0\n",
    "for i, word in enumerate(string_list):\n",
    "    char_count += len(word)\n",
    "    if char_count >= K:\n",
    "        word_position = i\n",
    "        break\n",
    "    char_count += 1 \n",
    "print(f\"K = {K}\")\n",
    "print(f\"Index of character at Kth position word: {word_position}\")\n"
   ]
  },
  {
   "cell_type": "markdown",
   "id": "521b3cb0",
   "metadata": {},
   "source": [
    "### Write a Python Program to Prefix frequency in string List"
   ]
  },
  {
   "cell_type": "code",
   "execution_count": 14,
   "id": "40dec1aa",
   "metadata": {},
   "outputs": [
    {
     "name": "stdout",
     "output_type": "stream",
     "text": [
      "['TjC', 'TjCpp', 'TjPython', 'Java']\n",
      "Prefix = 'Tj'\n",
      "Strings count with matching frequency: 3\n"
     ]
    }
   ],
   "source": [
    "string_list = ['TjC', 'TjCpp', 'TjPython', 'Java']\n",
    "prefix = 'Tj'\n",
    "print(string_list)\n",
    "matching_count = 0\n",
    "for string in string_list:\n",
    "    if string.startswith(prefix):\n",
    "        matching_count += 1\n",
    "print(f\"Prefix = '{prefix}'\")\n",
    "print(f\"Strings count with matching frequency: {matching_count}\")\n"
   ]
  },
  {
   "cell_type": "markdown",
   "id": "7a5e7d53",
   "metadata": {},
   "source": [
    "### Write a Python Program to Split Strings on Prefix Occurrence"
   ]
  },
  {
   "cell_type": "code",
   "execution_count": 15,
   "id": "0d11541d",
   "metadata": {},
   "outputs": [
    {
     "name": "stdout",
     "output_type": "stream",
     "text": [
      "['TjC', 'TjCpp', 'TjPython', 'Java', 'tj']\n",
      "Prefix = 'Tj'\n",
      "[['TjC'], ['TjCpp'], ['TjPython', 'Java', 'tj']]\n"
     ]
    }
   ],
   "source": [
    "string_list = ['TjC', 'TjCpp', 'TjPython', 'Java', 'tj']\n",
    "prefix = 'Tj'\n",
    "print(string_list)\n",
    "split_list = []\n",
    "current_sublist = [string_list[0]]\n",
    "for string in string_list[1:]:\n",
    "    if string.startswith(prefix):\n",
    "        split_list.append(current_sublist)\n",
    "        current_sublist = [string]\n",
    "    else:\n",
    "        current_sublist.append(string)\n",
    "split_list.append(current_sublist)\n",
    "print(f\"Prefix = '{prefix}'\")\n",
    "print(split_list)"
   ]
  },
  {
   "cell_type": "markdown",
   "id": "f4365003",
   "metadata": {},
   "source": [
    "###  Write a Python program to Replace all Characters of a List Except the given character"
   ]
  },
  {
   "cell_type": "code",
   "execution_count": 16,
   "id": "1bc4c092",
   "metadata": {},
   "outputs": [
    {
     "name": "stdout",
     "output_type": "stream",
     "text": [
      "['P', 'Y', 'T', 'H', 'O', 'N']\n",
      "['@', '@', 'T', '@', '@', '@']\n"
     ]
    }
   ],
   "source": [
    "char_list = ['P', 'Y', 'T', 'H', 'O', 'N']\n",
    "char_to_keep = 'T'\n",
    "print(char_list)\n",
    "replaced_list = ['@' if char != char_to_keep else char for char in char_list]\n",
    "print(replaced_list)"
   ]
  },
  {
   "cell_type": "markdown",
   "id": "a4405e35",
   "metadata": {},
   "source": [
    "### Write a Python Program to Add Space between Potential Words"
   ]
  },
  {
   "cell_type": "code",
   "execution_count": 19,
   "id": "3b349e19",
   "metadata": {},
   "outputs": [
    {
     "name": "stdout",
     "output_type": "stream",
     "text": [
      "['TutorJoes', 'ComputerEducations']\n",
      "[' TutorJoes', ' ComputerEducations']\n"
     ]
    }
   ],
   "source": [
    "string_list = ['TutorJoes', 'ComputerEducations']\n",
    "print(string_list)\n",
    "result_list = []\n",
    "\n",
    "for string in string_list:\n",
    "    words = string.split()\n",
    "    spaced_string = ''\n",
    "    \n",
    "    for word in words:\n",
    "        if word.isalpha():\n",
    "            spaced_string += word\n",
    "        else:\n",
    "            spaced_string += f' {word} '\n",
    "    \n",
    "    result_list.append(spaced_string)\n",
    "print(result_list)"
   ]
  },
  {
   "cell_type": "code",
   "execution_count": null,
   "id": "935485ac",
   "metadata": {},
   "outputs": [],
   "source": []
  }
 ],
 "metadata": {
  "kernelspec": {
   "display_name": "Python 3 (ipykernel)",
   "language": "python",
   "name": "python3"
  },
  "language_info": {
   "codemirror_mode": {
    "name": "ipython",
    "version": 3
   },
   "file_extension": ".py",
   "mimetype": "text/x-python",
   "name": "python",
   "nbconvert_exporter": "python",
   "pygments_lexer": "ipython3",
   "version": "3.11.3"
  }
 },
 "nbformat": 4,
 "nbformat_minor": 5
}
